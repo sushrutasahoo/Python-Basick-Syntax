{
 "cells": [
  {
   "cell_type": "markdown",
   "id": "f164167e",
   "metadata": {},
   "source": [
    "# Basick Function"
   ]
  },
  {
   "cell_type": "code",
   "execution_count": 1,
   "id": "2973b033",
   "metadata": {},
   "outputs": [
    {
     "name": "stdout",
     "output_type": "stream",
     "text": [
      "Hellow world\n",
      "123456789\n"
     ]
    }
   ],
   "source": [
    "# Using Print() Function\n",
    "print(\"Hellow world\")\n",
    "\n",
    "print(123456789)"
   ]
  },
  {
   "cell_type": "code",
   "execution_count": 3,
   "id": "b431a890",
   "metadata": {},
   "outputs": [
    {
     "name": "stdout",
     "output_type": "stream",
     "text": [
      "<class 'int'>\n",
      "<class 'str'>\n",
      "<class 'float'>\n"
     ]
    }
   ],
   "source": [
    "# Using Datatype()\n",
    "\n",
    "a = 2\n",
    "print(type(a))\n",
    "\n",
    "b = \"python\"\n",
    "print(type(b))\n",
    "\n",
    "c = 10.5\n",
    "print(type(c))"
   ]
  },
  {
   "cell_type": "code",
   "execution_count": 4,
   "id": "0679e9f4",
   "metadata": {},
   "outputs": [
    {
     "name": "stdout",
     "output_type": "stream",
     "text": [
      "A : juu\n"
     ]
    }
   ],
   "source": [
    "# Using Input()\n",
    "\n",
    "a = input(\"Enter the value of A :\")\n",
    "print(\"A :\",a)"
   ]
  },
  {
   "cell_type": "markdown",
   "id": "9dbdaf31",
   "metadata": {},
   "source": [
    "# Multiline comments "
   ]
  },
  {
   "cell_type": "code",
   "execution_count": null,
   "id": "a3c71bbc",
   "metadata": {},
   "outputs": [],
   "source": [
    "#   Wite a program to print\n",
    "#   multiples values with variable  (press C + /)"
   ]
  },
  {
   "cell_type": "code",
   "execution_count": 2,
   "id": "713f9dfd",
   "metadata": {},
   "outputs": [
    {
     "name": "stdout",
     "output_type": "stream",
     "text": [
      "\n",
      "Here is a list of the Python keywords.  Enter any keyword to get more help.\n",
      "\n",
      "False               class               from                or\n",
      "None                continue            global              pass\n",
      "True                def                 if                  raise\n",
      "and                 del                 import              return\n",
      "as                  elif                in                  try\n",
      "assert              else                is                  while\n",
      "async               except              lambda              with\n",
      "await               finally             nonlocal            yield\n",
      "break               for                 not                 \n",
      "\n"
     ]
    }
   ],
   "source": [
    "help(\"keywords\")"
   ]
  },
  {
   "cell_type": "markdown",
   "id": "502e0deb",
   "metadata": {},
   "source": [
    "# Numeric Datatype"
   ]
  },
  {
   "cell_type": "code",
   "execution_count": 2,
   "id": "2e5e0267",
   "metadata": {},
   "outputs": [
    {
     "name": "stdout",
     "output_type": "stream",
     "text": [
      "<class 'int'>\n",
      "<class 'float'>\n",
      "<class 'complex'>\n"
     ]
    }
   ],
   "source": [
    "# Int Datatype\n",
    "a = 10\n",
    "print(type(a))\n",
    "\n",
    "# Float Datatype\n",
    "b = 10.5\n",
    "print(type(b))\n",
    "\n",
    "# Complex Datatype\n",
    "c = 2+4j\n",
    "print(type(c))"
   ]
  },
  {
   "cell_type": "markdown",
   "id": "897d6ec9",
   "metadata": {},
   "source": [
    "# Boolean Datatype"
   ]
  },
  {
   "cell_type": "code",
   "execution_count": 8,
   "id": "39409bbf",
   "metadata": {},
   "outputs": [
    {
     "name": "stdout",
     "output_type": "stream",
     "text": [
      "<class 'bool'>\n",
      "<class 'bool'>\n"
     ]
    }
   ],
   "source": [
    "d = True\n",
    "print(type(d))\n",
    "\n",
    "e = False\n",
    "print(type(e))"
   ]
  },
  {
   "cell_type": "markdown",
   "id": "320ddbc0",
   "metadata": {},
   "source": [
    "# Set Datatype"
   ]
  },
  {
   "cell_type": "code",
   "execution_count": 9,
   "id": "fe25f61c",
   "metadata": {},
   "outputs": [
    {
     "name": "stdout",
     "output_type": "stream",
     "text": [
      "<class 'set'>\n"
     ]
    }
   ],
   "source": [
    "f = {\"a\",\"b\",\"c\"}\n",
    "print(type(f))"
   ]
  },
  {
   "cell_type": "markdown",
   "id": "6eafc93c",
   "metadata": {},
   "source": [
    "# Dictionary Datatype"
   ]
  },
  {
   "cell_type": "code",
   "execution_count": 10,
   "id": "f2cc1e86",
   "metadata": {},
   "outputs": [
    {
     "name": "stdout",
     "output_type": "stream",
     "text": [
      "<class 'dict'>\n"
     ]
    }
   ],
   "source": [
    "x = {\"key\":\"value\"}\n",
    "print(type(x))"
   ]
  },
  {
   "cell_type": "markdown",
   "id": "335b9fa6",
   "metadata": {},
   "source": [
    "# Sequence Datatype"
   ]
  },
  {
   "cell_type": "code",
   "execution_count": 14,
   "id": "3a76533c",
   "metadata": {},
   "outputs": [
    {
     "name": "stdout",
     "output_type": "stream",
     "text": [
      "<class 'list'>\n",
      "<class 'str'>\n",
      "<class 'tuple'>\n"
     ]
    }
   ],
   "source": [
    "# List datatype\n",
    "l1 = [1,2,3,4,5]\n",
    "print(type(l1))\n",
    "\n",
    "# String Datatype\n",
    "y = \"python program\"\n",
    "print(type(y))\n",
    "\n",
    "# Tuple datatype\n",
    "z = (1,2,3,4,5)\n",
    "print(type(z))"
   ]
  },
  {
   "cell_type": "markdown",
   "id": "3a83dc4e",
   "metadata": {},
   "source": [
    "# Creating a Variable"
   ]
  },
  {
   "cell_type": "code",
   "execution_count": 28,
   "id": "70861a37",
   "metadata": {},
   "outputs": [
    {
     "name": "stdout",
     "output_type": "stream",
     "text": [
      "10\n",
      "<class 'int'>\n",
      "10.45\n",
      "<class 'float'>\n",
      "python\n",
      "<class 'str'>\n",
      "[1, 2, 3, 4, 5, 6]\n",
      "<class 'list'>\n",
      "(1, 2, 3, 4, 5)\n",
      "<class 'tuple'>\n"
     ]
    }
   ],
   "source": [
    "# Integer value to the variable\n",
    "a = 10\n",
    "print(a)\n",
    "print(type(a))\n",
    "\n",
    "# Float Value to the Variable\n",
    "b = 10.45\n",
    "print(b)\n",
    "print(type(b))\n",
    "\n",
    "# String value to the variable\n",
    "c = \"python\"\n",
    "print(c)\n",
    "print(type(c))\n",
    "\n",
    "# List store in Variable\n",
    "l1 = [1,2,3,4,5,6]\n",
    "print(l1)\n",
    "print(type(l1))\n",
    "\n",
    "# Tuple store in Variable\n",
    "t1 = (1,2,3,4,5)\n",
    "print(t1)\n",
    "print(type(t1))"
   ]
  },
  {
   "cell_type": "markdown",
   "id": "53001afb",
   "metadata": {},
   "source": [
    "# Type conversion"
   ]
  },
  {
   "cell_type": "code",
   "execution_count": 68,
   "id": "4bce9640",
   "metadata": {},
   "outputs": [
    {
     "name": "stdout",
     "output_type": "stream",
     "text": [
      "Enter the value of A :1234\n",
      "A :  1234\n",
      "<class 'int'>\n"
     ]
    }
   ],
   "source": [
    "# Converting from one datatype to anothor type is called \n",
    "# type conversion/Type Casting\n",
    "\n",
    "a = int(input(\"Enter the value of A :\"))\n",
    "print(\"A : \",a)\n",
    "print(type(a))"
   ]
  },
  {
   "cell_type": "markdown",
   "id": "f8be6ced",
   "metadata": {},
   "source": [
    "# Arithemetick Operater"
   ]
  },
  {
   "cell_type": "code",
   "execution_count": 74,
   "id": "89c3943a",
   "metadata": {},
   "outputs": [
    {
     "name": "stdout",
     "output_type": "stream",
     "text": [
      "answer : 30\n"
     ]
    }
   ],
   "source": [
    "# Additional Operater\n",
    "\n",
    "x = 10\n",
    "y = 20\n",
    "\n",
    "z = x+y\n",
    "print(\"answer :\",z)"
   ]
  },
  {
   "cell_type": "code",
   "execution_count": 77,
   "id": "9bcdb277",
   "metadata": {},
   "outputs": [
    {
     "name": "stdout",
     "output_type": "stream",
     "text": [
      "Answer : 20\n"
     ]
    }
   ],
   "source": [
    "# Substaction Operater\n",
    "x = 30\n",
    "y = 10\n",
    "\n",
    "z = x-y\n",
    "print(\"Answer :\",z)"
   ]
  },
  {
   "cell_type": "code",
   "execution_count": 81,
   "id": "395d429f",
   "metadata": {},
   "outputs": [
    {
     "name": "stdout",
     "output_type": "stream",
     "text": [
      "Answer : 20\n",
      "<class 'int'>\n"
     ]
    }
   ],
   "source": [
    "# Multyplication Operater\n",
    "x = 10\n",
    "y = 2\n",
    "\n",
    "z = x*y\n",
    "print(\"Answer :\",z)\n",
    "print(type(z))"
   ]
  },
  {
   "cell_type": "code",
   "execution_count": 80,
   "id": "e3dfd70a",
   "metadata": {},
   "outputs": [
    {
     "name": "stdout",
     "output_type": "stream",
     "text": [
      "Answer : 5.0\n",
      "<class 'float'>\n"
     ]
    }
   ],
   "source": [
    "# Division Operater\n",
    "x = 10\n",
    "y = 2\n",
    "\n",
    "z = x/y\n",
    "print(\"Answer :\",z)\n",
    "print(type(z))"
   ]
  },
  {
   "cell_type": "markdown",
   "id": "f18b39ee",
   "metadata": {},
   "source": [
    "# Assignment Operater"
   ]
  },
  {
   "cell_type": "code",
   "execution_count": 92,
   "id": "72ee7e7e",
   "metadata": {},
   "outputs": [
    {
     "name": "stdout",
     "output_type": "stream",
     "text": [
      "x : 5\n"
     ]
    }
   ],
   "source": [
    "# Equal to Operater\n",
    "\n",
    "x = 5\n",
    "print(\"x :\",x)"
   ]
  },
  {
   "cell_type": "code",
   "execution_count": 109,
   "id": "83fe07ef",
   "metadata": {},
   "outputs": [
    {
     "name": "stdout",
     "output_type": "stream",
     "text": [
      "x : 15\n"
     ]
    }
   ],
   "source": [
    "# Addition and Equal to Operater\n",
    "\n",
    "x = 5\n",
    "x+=10 #... x = x+5\n",
    "print(\"x :\",x)"
   ]
  },
  {
   "cell_type": "code",
   "execution_count": 101,
   "id": "8d830e32",
   "metadata": {},
   "outputs": [
    {
     "name": "stdout",
     "output_type": "stream",
     "text": [
      "Enter the value of A :4\n",
      "Enter the value of A :6\n",
      "10\n"
     ]
    }
   ],
   "source": [
    "x =  int(input(\"Enter the value of A :\"))\n",
    "y =  int(input(\"Enter the value of A :\"))\n",
    "z = (x+y)\n",
    "print(z)"
   ]
  },
  {
   "cell_type": "code",
   "execution_count": 2,
   "id": "77099b65",
   "metadata": {},
   "outputs": [
    {
     "name": "stdout",
     "output_type": "stream",
     "text": [
      "Enter the value of First : 33\n",
      "Enter the value of Second : 2\n",
      "print total value : 66\n"
     ]
    }
   ],
   "source": [
    "x =  int(input(\"Enter the value of First : \"))\n",
    "x*=  int(input(\"Enter the value of Second : \"))\n",
    "print(\"print total value :\", x)"
   ]
  },
  {
   "cell_type": "code",
   "execution_count": 3,
   "id": "87e48768",
   "metadata": {},
   "outputs": [
    {
     "name": "stdout",
     "output_type": "stream",
     "text": [
      "x :  4\n"
     ]
    }
   ],
   "source": [
    "# Subtraction and Equal to Operater\n",
    "\n",
    "x = 6\n",
    "x-= 2 # x = x-2\n",
    "print(\"x : \",x)"
   ]
  },
  {
   "cell_type": "markdown",
   "id": "2dfa7aaf",
   "metadata": {},
   "source": [
    "# Comparison Operater"
   ]
  },
  {
   "cell_type": "code",
   "execution_count": 5,
   "id": "d7118fab",
   "metadata": {},
   "outputs": [
    {
     "name": "stdout",
     "output_type": "stream",
     "text": [
      "False\n"
     ]
    }
   ],
   "source": [
    "# Equal to Equal to Operater\n",
    "\n",
    "x = 5\n",
    "y = 3\n",
    "print(x==y)"
   ]
  },
  {
   "cell_type": "code",
   "execution_count": 9,
   "id": "1b11bb88",
   "metadata": {},
   "outputs": [
    {
     "name": "stdout",
     "output_type": "stream",
     "text": [
      "True\n"
     ]
    }
   ],
   "source": [
    "# Not Equal to Operater\n",
    "\n",
    "x = 5\n",
    "y = 3\n",
    "print(x!=y)"
   ]
  },
  {
   "cell_type": "code",
   "execution_count": 21,
   "id": "adf2fdc0",
   "metadata": {},
   "outputs": [
    {
     "name": "stdout",
     "output_type": "stream",
     "text": [
      "True\n"
     ]
    }
   ],
   "source": [
    "# greater than equal to\n",
    "\n",
    "x = 5\n",
    "y = 3\n",
    "print(x>=y)"
   ]
  },
  {
   "cell_type": "markdown",
   "id": "40771721",
   "metadata": {},
   "source": [
    "# Logical Operater"
   ]
  },
  {
   "cell_type": "code",
   "execution_count": 24,
   "id": "91503fe1",
   "metadata": {},
   "outputs": [
    {
     "name": "stdout",
     "output_type": "stream",
     "text": [
      "False\n"
     ]
    }
   ],
   "source": [
    "# And Operater\n",
    "\n",
    "x = 5\n",
    "print(x>3 and x<3)"
   ]
  },
  {
   "cell_type": "code",
   "execution_count": 29,
   "id": "ba071706",
   "metadata": {},
   "outputs": [
    {
     "name": "stdout",
     "output_type": "stream",
     "text": [
      "True\n"
     ]
    }
   ],
   "source": [
    "# Or Operater\n",
    "\n",
    "x = 5\n",
    "print(x>3 or x<4)\n",
    "\n"
   ]
  },
  {
   "cell_type": "markdown",
   "id": "8ee452f3",
   "metadata": {},
   "source": [
    "# Identity Operater"
   ]
  },
  {
   "cell_type": "code",
   "execution_count": 37,
   "id": "64899cb6",
   "metadata": {},
   "outputs": [
    {
     "name": "stdout",
     "output_type": "stream",
     "text": [
      "False\n",
      "True\n"
     ]
    }
   ],
   "source": [
    "# Is Operater\n",
    "\n",
    "x = [\"Apple\",\"Mango\"]\n",
    "y = [\"Apple\",\"Mango\"]\n",
    "z = x\n",
    "\n",
    "print(x is y)    # the object is not matching that's why it give us false\n",
    "print(x is z)    # the object is matching that's why it returns true"
   ]
  },
  {
   "cell_type": "markdown",
   "id": "44d1e488",
   "metadata": {},
   "source": [
    "# membership Operater"
   ]
  },
  {
   "cell_type": "code",
   "execution_count": 39,
   "id": "bc54e3c4",
   "metadata": {},
   "outputs": [
    {
     "name": "stdout",
     "output_type": "stream",
     "text": [
      "False\n",
      "True\n"
     ]
    }
   ],
   "source": [
    "x = [\"Apple\",\"Mango\"]\n",
    "print(\"Bannana\" in x)\n",
    "print(\"graps\" not in x)"
   ]
  },
  {
   "cell_type": "markdown",
   "id": "641bebb0",
   "metadata": {},
   "source": [
    "# Operater Precedence"
   ]
  },
  {
   "cell_type": "code",
   "execution_count": 51,
   "id": "4378920b",
   "metadata": {},
   "outputs": [
    {
     "name": "stdout",
     "output_type": "stream",
     "text": [
      "Value of : 90.0\n",
      "Value of : 90.0\n",
      "Valu of z : 50.0\n"
     ]
    }
   ],
   "source": [
    "a = 20\n",
    "b = 10\n",
    "c = 15\n",
    "d = 5\n",
    "\n",
    "x = (a+b)*c/d\n",
    "print(\"Value of :\",x)\n",
    "\n",
    "y = ((a+b)*c)/d\n",
    "print(\"Value of :\",y)\n",
    "\n",
    "z = a+(b*c)/d\n",
    "print(\"Valu of z :\",z)"
   ]
  },
  {
   "cell_type": "code",
   "execution_count": 1,
   "id": "98e29f3e",
   "metadata": {},
   "outputs": [
    {
     "name": "stdout",
     "output_type": "stream",
     "text": [
      "Enter the value of First : 3\n",
      "Enter the value of First : 34\n",
      "Enter the value of First : 32\n",
      "Enter the value of First : 3\n",
      "Value of : 394.6666666666667\n",
      "Value of :  394.6666666666667\n",
      "<class 'float'>\n",
      "<class 'float'>\n"
     ]
    }
   ],
   "source": [
    "a = int(input(\"Enter the value of First : \"))    # Try on my way\n",
    "b = int(input(\"Enter the value of First : \"))\n",
    "c = int(input(\"Enter the value of First : \"))\n",
    "d = int(input(\"Enter the value of First : \"))\n",
    "\n",
    "x = (a+b)*c/d\n",
    "print(\"Value of :\",x)\n",
    "\n",
    "y = ((a+b)*c)/d\n",
    "print(\"Value of : \",y)\n",
    "print(type(x))\n",
    "print(type(y))"
   ]
  },
  {
   "cell_type": "markdown",
   "id": "7f71f99e",
   "metadata": {},
   "source": [
    "# Simple If"
   ]
  },
  {
   "cell_type": "code",
   "execution_count": 2,
   "id": "04b357ae",
   "metadata": {},
   "outputs": [
    {
     "name": "stdout",
     "output_type": "stream",
     "text": [
      "Value of variable is 10\n",
      "Bye\n"
     ]
    }
   ],
   "source": [
    "var = 10\n",
    "\n",
    "if(var==10): # Your condition is getting True\n",
    "    print(\"Value of variable is 10\")\n",
    "print(\"Bye\")\n"
   ]
  },
  {
   "cell_type": "code",
   "execution_count": 1,
   "id": "6e7ac27d",
   "metadata": {},
   "outputs": [
    {
     "name": "stdout",
     "output_type": "stream",
     "text": [
      "bye\n"
     ]
    }
   ],
   "source": [
    "a = 25\n",
    "\n",
    "if(a>30): # Condition is getting false\n",
    "    print(\"value of variable is 25\")\n",
    "print(\"bye\")"
   ]
  },
  {
   "cell_type": "markdown",
   "id": "51a9cc3f",
   "metadata": {},
   "source": [
    "# If_Else"
   ]
  },
  {
   "cell_type": "code",
   "execution_count": 14,
   "id": "e9debe17",
   "metadata": {},
   "outputs": [
    {
     "name": "stdout",
     "output_type": "stream",
     "text": [
      "Enter the value of A : 45\n",
      "Enter the value of B : 765\n",
      "B is greater\n"
     ]
    }
   ],
   "source": [
    "a = int(input(\"Enter the value of A : \"))\n",
    "b = int(input(\"Enter the value of B : \"))\n",
    "\n",
    "if a<b: # Condition is getting True\n",
    "    print(\"B is greater\")\n",
    "else: #Else part call\n",
    "    print(\"A is greater\")"
   ]
  },
  {
   "cell_type": "code",
   "execution_count": 19,
   "id": "fcac7a46",
   "metadata": {},
   "outputs": [
    {
     "name": "stdout",
     "output_type": "stream",
     "text": [
      "Y is greater\n"
     ]
    }
   ],
   "source": [
    "x = 25\n",
    "y = 30\n",
    "\n",
    "if x<y: #condition True\n",
    "    print(\"Y is greater\")\n",
    "else:\n",
    "    print(\"X is greater\")"
   ]
  },
  {
   "cell_type": "markdown",
   "id": "3ef7fda1",
   "metadata": {},
   "source": [
    "# If Else Ladder"
   ]
  },
  {
   "cell_type": "code",
   "execution_count": 18,
   "id": "dc921720",
   "metadata": {},
   "outputs": [
    {
     "name": "stdout",
     "output_type": "stream",
     "text": [
      "Enter your percentage : 66\n",
      "1st class\n"
     ]
    }
   ],
   "source": [
    "# 1)Percentage greater than 70 ==Dist\n",
    "# 2)Percentage greater or equal to 65 and less than 70 == 1st class\n",
    "# 3)Percentage greater or equal to 60 and less than 65 == 2nd class\n",
    "# 3)Percentage greater or equal to 55and less than 60 == 3rd class\n",
    "# 4)Percentage less than 55 == Fail\n",
    "\n",
    "p = int(input(\"Enter your percentage : \"))\n",
    "\n",
    "if p>=70:\n",
    "    print(\"Dist\")\n",
    "elif p>=65 and p<70:\n",
    "    print(\"1st class\")\n",
    "elif p>=60 and p<65:\n",
    "    print(\"2nd class\")\n",
    "elif p>=55 and p<60:\n",
    "    print(\"3rd class\")\n",
    "else:\n",
    "    print(\"fail\")"
   ]
  },
  {
   "cell_type": "markdown",
   "id": "449b03cd",
   "metadata": {},
   "source": [
    "# Nested If"
   ]
  },
  {
   "cell_type": "code",
   "execution_count": 25,
   "id": "5a85a8b9",
   "metadata": {},
   "outputs": [
    {
     "name": "stdout",
     "output_type": "stream",
     "text": [
      "Enter your Age : 19\n",
      "Enter your weight : 45\n",
      "Under weight\n"
     ]
    }
   ],
   "source": [
    "# 1)Age>=18\n",
    "# 2)Wight>=50\n",
    "# 3)If both age and weight match with creiteria then the user can donate the blood\n",
    "# 4)If age is less than 18 show one msg under weight\n",
    "# 5)If weight is less than 50 show one msg under weight\n",
    "# 6)If age doesnot match then it should ask for weight\n",
    "\n",
    "age = int(input(\"Enter your Age : \"))\n",
    "\n",
    "\n",
    "if age>=18:\n",
    "    weg = int(input(\"Enter your weight : \"))    \n",
    "    if weg>=50:\n",
    "        print(\"Blood Donat\")\n",
    "    else:\n",
    "        print(\"Under weight\")\n",
    "else:\n",
    "    print(\"Under age\")"
   ]
  },
  {
   "cell_type": "markdown",
   "id": "af0a97dd",
   "metadata": {},
   "source": [
    "# While Loop"
   ]
  },
  {
   "cell_type": "code",
   "execution_count": null,
   "id": "edcf2f3c",
   "metadata": {},
   "outputs": [],
   "source": [
    "# 5,9,12,14,15\n",
    "\n",
    "sum = 0\n",
    "n = int(input(\"N : \"))\n",
    "while n>0:\n",
    "    sum = sum+n\n",
    "    n-=1\n",
    "    print(\"sum : \",sum)\n",
    "print(\"Bye\")"
   ]
  },
  {
   "cell_type": "code",
   "execution_count": 1,
   "id": "921cd804",
   "metadata": {},
   "outputs": [
    {
     "name": "stdout",
     "output_type": "stream",
     "text": [
      "Put in number =  2\n"
     ]
    },
    {
     "name": "stdout",
     "output_type": "stream",
     "text": [
      "3\n",
      "4\n",
      "5\n",
      "6\n",
      "7\n",
      "8\n",
      "9\n",
      "10\n",
      "11\n",
      "12\n",
      "13\n",
      "14\n",
      "15\n",
      "16\n",
      "17\n",
      "18\n",
      "19\n",
      "20\n"
     ]
    }
   ],
   "source": [
    "i = int(input(\"Put in number = \"))\n",
    "\n",
    "while(i<20):\n",
    "    #print(i)\n",
    "    i = i+1\n",
    "    print(i)\n"
   ]
  },
  {
   "cell_type": "markdown",
   "id": "29a95f7a",
   "metadata": {},
   "source": [
    "# While Loop With Else Part"
   ]
  },
  {
   "cell_type": "code",
   "execution_count": 2,
   "id": "40cc060b",
   "metadata": {},
   "outputs": [
    {
     "name": "stdout",
     "output_type": "stream",
     "text": [
      "N : 5\n",
      "sum :  5\n",
      "sum :  9\n",
      "sum :  12\n",
      "sum :  14\n",
      "sum :  15\n",
      "loop Error\n",
      "Bye\n"
     ]
    }
   ],
   "source": [
    "sum = 0\n",
    "n = int(input(\"N : \"))\n",
    "while n>0:\n",
    "    sum = sum+n\n",
    "    n-=1\n",
    "    print(\"sum : \",sum)\n",
    "else:\n",
    "    print(\"loop Error\")\n",
    "print(\"Bye\")"
   ]
  },
  {
   "cell_type": "markdown",
   "id": "5f72b0c7",
   "metadata": {},
   "source": [
    "# Simple For Loop"
   ]
  },
  {
   "cell_type": "code",
   "execution_count": 10,
   "id": "88c68d84",
   "metadata": {},
   "outputs": [
    {
     "name": "stdout",
     "output_type": "stream",
     "text": [
      "python = 6\n",
      "java = 4\n",
      "angular = 7\n",
      "graphic = 7\n"
     ]
    }
   ],
   "source": [
    "word = [\"python\",\"java\",\"angular\",\"graphic\"]\n",
    "for i in word:\n",
    "    print(i,'=',len(i))"
   ]
  },
  {
   "cell_type": "markdown",
   "id": "f437ea6f",
   "metadata": {},
   "source": [
    "# Nested For Loop"
   ]
  },
  {
   "cell_type": "code",
   "execution_count": 14,
   "id": "ad29c5ec",
   "metadata": {},
   "outputs": [
    {
     "name": "stdout",
     "output_type": "stream",
     "text": [
      "+\n",
      "++\n",
      "+++\n",
      "++++\n",
      "+++++\n"
     ]
    }
   ],
   "source": [
    "# *\n",
    "# **\n",
    "# ***\n",
    "# ****\n",
    "# *****\n",
    "# range(start point,end point,step(jump)point)\n",
    "\n",
    "for i in range(1,6):\n",
    "    for j in range(i):\n",
    "        print(\"+\",end=\"\")\n",
    "    print()\n",
    "    \n",
    "\n"
   ]
  },
  {
   "cell_type": "code",
   "execution_count": 16,
   "id": "e9c8477d",
   "metadata": {},
   "outputs": [
    {
     "name": "stdout",
     "output_type": "stream",
     "text": [
      "+++++\n",
      "++++\n",
      "+++\n",
      "++\n",
      "+\n"
     ]
    }
   ],
   "source": [
    "# For revese format\n",
    "\n",
    "for i in range(5,0,-1):\n",
    "    for j in range(i):\n",
    "        print(\"+\",end=\"\")\n",
    "    print()"
   ]
  },
  {
   "cell_type": "markdown",
   "id": "51b6564d",
   "metadata": {},
   "source": [
    "# Break Statement"
   ]
  },
  {
   "cell_type": "code",
   "execution_count": 19,
   "id": "5bf0cf9d",
   "metadata": {},
   "outputs": [
    {
     "name": "stdout",
     "output_type": "stream",
     "text": [
      "current letter : p\n",
      "current letter : y\n",
      "current letter : t\n"
     ]
    }
   ],
   "source": [
    "for letter in \"python\":\n",
    "    if letter == \"h\":\n",
    "        #Here using break statement to break execution\n",
    "        break\n",
    "    print(\"current letter :\",letter)"
   ]
  },
  {
   "cell_type": "markdown",
   "id": "05470a7e",
   "metadata": {},
   "source": [
    "# Continue Statement"
   ]
  },
  {
   "cell_type": "code",
   "execution_count": 21,
   "id": "96fb6078",
   "metadata": {},
   "outputs": [
    {
     "name": "stdout",
     "output_type": "stream",
     "text": [
      "Current Letter :  p\n",
      "Current Letter :  y\n",
      "Current Letter :  t\n",
      "Current Letter :  o\n",
      "Current Letter :  n\n",
      "bye\n"
     ]
    }
   ],
   "source": [
    "for letter in \"python\":\n",
    "    if letter == 'h':\n",
    "        #continue statement will skip the 'h'\n",
    "        continue\n",
    "    print(\"Current Letter : \",letter)\n",
    "print(\"bye\")"
   ]
  },
  {
   "cell_type": "markdown",
   "id": "1e6a37b8",
   "metadata": {},
   "source": [
    "# Pass Statement"
   ]
  },
  {
   "cell_type": "markdown",
   "id": "0191ad4e",
   "metadata": {},
   "source": [
    "for letter in \"python\":\n",
    "    if letter == 'h':\n",
    "        pass\n",
    "        print(\"pass block\")\n",
    "    print(\"current letter : \",letter)\n",
    "print(\"bye\")"
   ]
  },
  {
   "cell_type": "markdown",
   "id": "6a805ee2",
   "metadata": {},
   "source": [
    "# How to use String in Python"
   ]
  },
  {
   "cell_type": "code",
   "execution_count": 29,
   "id": "be8fb1fa",
   "metadata": {},
   "outputs": [
    {
     "name": "stdout",
     "output_type": "stream",
     "text": [
      "Hello World\n",
      "Hello World\n"
     ]
    }
   ],
   "source": [
    "# Single Quote in String\n",
    "print('Hello World')\n",
    "\n",
    "# Double quote in String\n",
    "print(\"Hello World\")"
   ]
  },
  {
   "cell_type": "markdown",
   "id": "403f052c",
   "metadata": {},
   "source": [
    "# Multiline String"
   ]
  },
  {
   "cell_type": "code",
   "execution_count": 30,
   "id": "9cbc5bda",
   "metadata": {},
   "outputs": [
    {
     "name": "stdout",
     "output_type": "stream",
     "text": [
      "python is booming in the market,\n",
      "python is smart language,\n",
      "python is used in AI,Machin Learning,Data Science\n",
      "\n"
     ]
    }
   ],
   "source": [
    "a = \"\"\"python is booming in the market,\n",
    "python is smart language,\n",
    "python is used in AI,Machin Learning,Data Science\n",
    "\"\"\"\n",
    "print(a)"
   ]
  },
  {
   "cell_type": "markdown",
   "id": "a99bbcd0",
   "metadata": {},
   "source": [
    "# Update String"
   ]
  },
  {
   "cell_type": "code",
   "execution_count": 33,
   "id": "343ab38c",
   "metadata": {},
   "outputs": [
    {
     "name": "stdout",
     "output_type": "stream",
     "text": [
      "Hello world!\n",
      "Update String :  Hello python\n"
     ]
    }
   ],
   "source": [
    "a = \"Hello world!\"\n",
    "print(a)\n",
    "print(\"Update String : \",a[:6]+\"python\")"
   ]
  },
  {
   "cell_type": "markdown",
   "id": "4af5ec93",
   "metadata": {},
   "source": [
    "# String Slicing other name Using Arrey"
   ]
  },
  {
   "cell_type": "code",
   "execution_count": 49,
   "id": "eeed5d15",
   "metadata": {},
   "outputs": [
    {
     "name": "stdout",
     "output_type": "stream",
     "text": [
      "Index 1 :  e\n",
      "Index between 1 to 8 : ello Py\n",
      "Index till 7 :  Hello P\n",
      "Last value :  n\n"
     ]
    }
   ],
   "source": [
    "a = \"Hello Python\"\n",
    "# Access the valu of Index 1\n",
    "print(\"Index 1 : \",a[1])\n",
    "\n",
    "# Access the value Between index 1 to 6\n",
    "print(\"Index between 1 to 8 :\",a[1:8])\n",
    "\n",
    "# Access the value till index 6\n",
    "print(\"Index till 7 : \",a[:7])\n",
    "\n",
    "# Access the last value from string\n",
    "print(\"Last value : \",a[-1])"
   ]
  },
  {
   "cell_type": "markdown",
   "id": "feb86d79",
   "metadata": {},
   "source": [
    "# Strin In-Build Methods"
   ]
  },
  {
   "cell_type": "code",
   "execution_count": 51,
   "id": "69b007c1",
   "metadata": {},
   "outputs": [
    {
     "name": "stdout",
     "output_type": "stream",
     "text": [
      "Hello and wellcome to learnvern\n"
     ]
    }
   ],
   "source": [
    "# Capitalize() : This method converts the first Character in String\n",
    "a = \"hello and wellcome to learnvern\"\n",
    "x = a.capitalize()\n",
    "print(x)"
   ]
  },
  {
   "cell_type": "code",
   "execution_count": 52,
   "id": "51bad00e",
   "metadata": {},
   "outputs": [
    {
     "name": "stdout",
     "output_type": "stream",
     "text": [
      "hello and wellcome to learnvern\n"
     ]
    }
   ],
   "source": [
    "# Casefold() : This method convert all capital letter small\n",
    "a = \"Hello and Wellcome to Learnvern\"\n",
    "x = a.casefold()\n",
    "print(x)"
   ]
  },
  {
   "cell_type": "code",
   "execution_count": 58,
   "id": "5364395b",
   "metadata": {},
   "outputs": [
    {
     "name": "stdout",
     "output_type": "stream",
     "text": [
      "python\n",
      "       python       \n"
     ]
    }
   ],
   "source": [
    "# Center() : This is use to bring your into center\n",
    "\n",
    "a = \"python\"\n",
    "print(a)\n",
    "\n",
    "x = a.center(20)\n",
    "# Update using center method\n",
    "print(x)"
   ]
  },
  {
   "cell_type": "code",
   "execution_count": 59,
   "id": "221ad476",
   "metadata": {},
   "outputs": [
    {
     "name": "stdout",
     "output_type": "stream",
     "text": [
      "2\n"
     ]
    }
   ],
   "source": [
    "# Count() : This method is used to count the repeated word in string\n",
    "a = \"I love python, python is a smart language\"\n",
    "x = a.count(\"python\")\n",
    "print(x)"
   ]
  },
  {
   "cell_type": "markdown",
   "id": "8e2b3e76",
   "metadata": {},
   "source": [
    "# How to Compare String"
   ]
  },
  {
   "cell_type": "code",
   "execution_count": 62,
   "id": "c93928a4",
   "metadata": {},
   "outputs": [
    {
     "name": "stdout",
     "output_type": "stream",
     "text": [
      "True\n"
     ]
    }
   ],
   "source": [
    "str1 = \"Learnvern\"\n",
    "str2 = \"Learnvern\"\n",
    "result = str1==str2\n",
    "print(result)"
   ]
  },
  {
   "cell_type": "code",
   "execution_count": 66,
   "id": "129879b5",
   "metadata": {},
   "outputs": [
    {
     "name": "stdout",
     "output_type": "stream",
     "text": [
      "True\n"
     ]
    }
   ],
   "source": [
    "str1 = 'A'\n",
    "str2 = 'B'\n",
    "str3 = 'C'\n",
    "result = str2<str3\n",
    "print(result)"
   ]
  },
  {
   "cell_type": "markdown",
   "id": "98e81cd1-93d1-49a9-8929-5101ee064a4b",
   "metadata": {},
   "source": [
    "# Create a List"
   ]
  },
  {
   "cell_type": "code",
   "execution_count": 6,
   "id": "a16a9e1d-7010-49a8-ad5c-9ba73291c86f",
   "metadata": {},
   "outputs": [
    {
     "name": "stdout",
     "output_type": "stream",
     "text": [
      "Integer List :  [1, 2, 3, 4, 5, 6]\n",
      "String List :  ['Apple', 'MAngo', 'Orange']\n"
     ]
    }
   ],
   "source": [
    "# this list Store the integer values\n",
    "l1 = [1,2,3,4,5,6]\n",
    "# This List store the String Vlaues\n",
    "l2 = [\"Apple\", \"MAngo\" ,\"Orange\"]\n",
    "print(\"Integer List : \",l1)\n",
    "print(\"String List : \",l2)\n"
   ]
  },
  {
   "cell_type": "markdown",
   "id": "d0e8e1f7-8cd8-4f83-bb38-a57f59fd276a",
   "metadata": {},
   "source": [
    "# Duplicate Values in"
   ]
  },
  {
   "cell_type": "code",
   "execution_count": 7,
   "id": "2dc6aa68-71a2-4931-b9bb-e2a79c583ceb",
   "metadata": {},
   "outputs": [
    {
     "name": "stdout",
     "output_type": "stream",
     "text": [
      "Duplicate Values : [1, 2, 3, 4, 5, 6, 1, 2, 3]\n"
     ]
    }
   ],
   "source": [
    "l1 = [1,2,3,4,5,6,1,2,3]\n",
    "print(\"Duplicate Values :\",l1)"
   ]
  },
  {
   "cell_type": "markdown",
   "id": "eb1de052-7210-41d2-ab18-5a99c05da1c1",
   "metadata": {},
   "source": [
    "# List Constructer"
   ]
  },
  {
   "cell_type": "code",
   "execution_count": 8,
   "id": "307f300c-2b1d-4474-9eda-01f917a233fe",
   "metadata": {},
   "outputs": [
    {
     "name": "stdout",
     "output_type": "stream",
     "text": [
      "['Apple', 'Mango', 'Orange']\n"
     ]
    }
   ],
   "source": [
    "l1 = list((\"Apple\",\"Mango\",\"Orange\")) # Note there is Double Bracets\n",
    "print(l1)"
   ]
  },
  {
   "cell_type": "markdown",
   "id": "530862f6-3c57-4ebc-ba25-23780717b5d9",
   "metadata": {},
   "source": [
    "# List Slicing"
   ]
  },
  {
   "cell_type": "code",
   "execution_count": 21,
   "id": "bc1ad5b0-6d89-4ec8-864c-e18fa91321c1",
   "metadata": {},
   "outputs": [
    {
     "name": "stdout",
     "output_type": "stream",
     "text": [
      "Current List :  [1, 2, 3, 4, 5, 6, 7, 8, 9, 10]\n",
      "Index 1 value :  2\n",
      "Index Between 1 to 6 :  [2, 3, 4, 5, 6]\n",
      "Index Till 6 :  [1, 2, 3, 4, 5, 6]\n",
      "Last value :  10\n"
     ]
    }
   ],
   "source": [
    "l1 = [1,2,3,4,5,6,7,8,9,10]\n",
    "print(\"Current List : \",l1)\n",
    "\n",
    "# Acessn  the value of index 1\n",
    "print(\"Index 1 value : \",l1[1])\n",
    "\n",
    "# Acess the value Between index 1 to 6\n",
    "print(\"Index Between 1 to 6 : \",l1[1:6])\n",
    "\n",
    "# Acess the value till index 6\n",
    "print(\"Index Till 6 : \",l1[:6])\n",
    "\n",
    "# Acess the last value from List\n",
    "print(\"Last value : \",l1[-1])"
   ]
  },
  {
   "cell_type": "markdown",
   "id": "61308460-c4a3-4002-9c48-7726ca45251d",
   "metadata": {},
   "source": [
    "# List Item Change"
   ]
  },
  {
   "cell_type": "code",
   "execution_count": 24,
   "id": "c9c16285-2593-4327-a84f-2ce793270cf4",
   "metadata": {},
   "outputs": [
    {
     "name": "stdout",
     "output_type": "stream",
     "text": [
      "current List :  ['Apple', 'Banana', 'Cherry', 'Mango', 'Orange', 'Kiwi']\n",
      "Updated List :  ['Apple', 'Grapes', 'Watermelon', 'Mango', 'Orange', 'Kiwi']\n"
     ]
    }
   ],
   "source": [
    "x = [\"Apple\",\"Banana\",\"Cherry\",\"Mango\",\"Orange\",\"Kiwi\"]\n",
    "print(\"current List : \",x)\n",
    "\n",
    "# Change the item List\n",
    "x[1:3] = [\"Grapes\",\"Watermelon\"]\n",
    "print(\"Updated List : \",x)\n"
   ]
  },
  {
   "cell_type": "markdown",
   "id": "86986920-978d-450d-b3e9-f94c86d45a70",
   "metadata": {},
   "source": [
    "# Insert into List"
   ]
  },
  {
   "cell_type": "code",
   "execution_count": 26,
   "id": "908a37aa-7bb8-4777-9233-40590110e045",
   "metadata": {},
   "outputs": [
    {
     "name": "stdout",
     "output_type": "stream",
     "text": [
      "Current List :  [1, 2, 3, 4, 5, 6]\n",
      "updated List :  [1, 2, 'python', 3, 4, 5, 6]\n"
     ]
    }
   ],
   "source": [
    "l1 = [1,2,3,4,5,6]\n",
    "print(\"Current List : \",l1)\n",
    "# Updating the list using insert method\n",
    "l1.insert(2,\"python\")\n",
    "print(\"updated List : \",l1)"
   ]
  },
  {
   "cell_type": "markdown",
   "id": "3d81c341-6ced-4132-8323-d01820616633",
   "metadata": {},
   "source": [
    "# Extend the list"
   ]
  },
  {
   "cell_type": "code",
   "execution_count": 27,
   "id": "9abc1291-999e-405b-9d1d-3a238a3d41a4",
   "metadata": {},
   "outputs": [
    {
     "name": "stdout",
     "output_type": "stream",
     "text": [
      "['A', 'B', 'C', 'D', 'E', 'Apple', 'MAngo', 'Orange']\n"
     ]
    }
   ],
   "source": [
    "l1 = [1,2,3,4,5]\n",
    "l1 = ['A','B','C','D','E']\n",
    "# Extending the list of l2 into l1\n",
    "l1.extend(l2)\n",
    "print(l1)"
   ]
  },
  {
   "cell_type": "markdown",
   "id": "2233c88e-308e-40f3-bd81-79993c331ea9",
   "metadata": {},
   "source": [
    "# Remove item from List"
   ]
  },
  {
   "cell_type": "code",
   "execution_count": 30,
   "id": "42d9f4b0-3816-4412-bb7b-36ec810023c4",
   "metadata": {},
   "outputs": [
    {
     "name": "stdout",
     "output_type": "stream",
     "text": [
      "Current List :  [1, 2, 3, 4, 5, 6, 7]\n",
      "Update List :  [1, 2, 4, 5, 6, 7]\n"
     ]
    }
   ],
   "source": [
    "# remove() : This method is used to remove element from list\n",
    "\n",
    "l1 = [1,2,3,4,5,6,7]\n",
    "print(\"Current List : \",l1)\n",
    "\n",
    "# Removing the item using remove method\n",
    "l1.remove(3)\n",
    "print(\"Update List : \",l1)"
   ]
  },
  {
   "cell_type": "code",
   "execution_count": 33,
   "id": "cdfdcbc0-c084-4f2d-8506-66a016312c07",
   "metadata": {},
   "outputs": [
    {
     "name": "stdout",
     "output_type": "stream",
     "text": [
      "Current List :  [1, 2, 3, 4, 5, 6, 7]\n",
      "Updated List :  [1, 2, 3, 4, 5, 6]\n"
     ]
    }
   ],
   "source": [
    "# pop() : This method is used to remove last value from List\n",
    "\n",
    "l1 = [1,2,3,4,5,6,7]\n",
    "print(\"Current List : \",l1)\n",
    "\n",
    "# Remove item using pop method\n",
    "l1.pop()\n",
    "print(\"Updated List : \",l1)"
   ]
  },
  {
   "cell_type": "code",
   "execution_count": 35,
   "id": "4c7515c7-b1c0-4d05-8cfa-6551e766537a",
   "metadata": {},
   "outputs": [
    {
     "name": "stdout",
     "output_type": "stream",
     "text": [
      "current List :  [1, 2, 3, 4, 5, 6, 7]\n",
      "Update list :  [1, 2, 4, 5, 6, 7]\n"
     ]
    }
   ],
   "source": [
    "# del() : This method is used to remove item from the index\n",
    "\n",
    "l1 = [1,2,3,4,5,6,7]\n",
    "print(\"current List : \",l1)\n",
    "\n",
    "# Remove item asking del method\n",
    "del l1[2]\n",
    "print(\"Update list : \",l1)"
   ]
  },
  {
   "cell_type": "code",
   "execution_count": 38,
   "id": "ae7af0a5-8f91-4b56-bd70-008e51c7b6c7",
   "metadata": {},
   "outputs": [
    {
     "name": "stdout",
     "output_type": "stream",
     "text": [
      "current list :  [1, 2, 3, 4, 5, 6, 7]\n",
      "Updated List :  []\n"
     ]
    }
   ],
   "source": [
    "# clear() : this method is used to clear the list\n",
    "\n",
    "l1 = [1,2,3,4,5,6,7]\n",
    "print(\"current list : \",l1)\n",
    "\n",
    "# remove item using clear method\n",
    "l1.clear()\n",
    "print(\"Updated List : \",l1)"
   ]
  },
  {
   "cell_type": "markdown",
   "id": "19bd728d-4a0f-4f3f-a9d9-9e685c864204",
   "metadata": {},
   "source": [
    "# Create Tuple"
   ]
  },
  {
   "cell_type": "code",
   "execution_count": 1,
   "id": "48f65150-9def-4f0e-af4a-353df487112e",
   "metadata": {},
   "outputs": [
    {
     "name": "stdout",
     "output_type": "stream",
     "text": [
      "Current Tuple :  ('apple', 'Orange', 'Cherry', 1, 2, 3, 4, 5, 10.5, 12.5, 5, 4)\n"
     ]
    }
   ],
   "source": [
    "# Creating a Tuple\n",
    "\n",
    "t1 = (\"apple\",\"Orange\",\"Cherry\",1,2,3,4,5,10.5,12.5,5,4)\n",
    "print(\"Current Tuple : \",t1)"
   ]
  },
  {
   "cell_type": "markdown",
   "id": "b0a7e006-aead-4c88-891e-a33c1da29e6e",
   "metadata": {},
   "source": [
    "# How to check a Length of Tuple"
   ]
  },
  {
   "cell_type": "code",
   "execution_count": 4,
   "id": "c9e8169c-861f-4b2b-8ada-8df99bfbd01d",
   "metadata": {},
   "outputs": [
    {
     "name": "stdout",
     "output_type": "stream",
     "text": [
      "Size :  7\n"
     ]
    }
   ],
   "source": [
    "t2 = (1,2,3,4,5,6,7)\n",
    "print(\"Size : \",len(t2))"
   ]
  },
  {
   "cell_type": "markdown",
   "id": "efb55b68-6fd3-4666-960d-42ad9d990729",
   "metadata": {},
   "source": [
    "# Indexing / Slicing in Tuple"
   ]
  },
  {
   "cell_type": "code",
   "execution_count": 20,
   "id": "22cebeea-5542-4868-9e74-2e2bbc95a322",
   "metadata": {},
   "outputs": [
    {
     "name": "stdout",
     "output_type": "stream",
     "text": [
      "Current Tuple :  ('apple', 'Orange', 'Cherry', 1, 2, 3, 4, 5, 10.5, 12.5, 5, 4)\n",
      "Index 1 value :  4\n",
      "Index between 1 to 6 :  ('Orange', 'Cherry', 1, 2, 3)\n",
      "Last value :  4\n",
      "Value to Index 6 :  ('apple', 'Orange', 'Cherry', 1, 2, 3)\n"
     ]
    }
   ],
   "source": [
    "t1 = (\"apple\",\"Orange\",\"Cherry\",1,2,3,4,5,10.5,12.5,5,4)\n",
    "print(\"Current Tuple : \",t1)\n",
    "\n",
    "# Sccessing the value by using index\n",
    "print(\"Index 1 value : \",t1[6])\n",
    "\n",
    "# Accessing the value between index 1to 6\n",
    "print(\"Index between 1 to 6 : \",t1[1:6])\n",
    "\n",
    "# Access the value from last into tuple\n",
    "print(\"Last value : \",t1[-1])\n",
    "\n",
    "# Access the value till index 6\n",
    "print(\"Value to Index 6 : \",t1[:6])"
   ]
  },
  {
   "cell_type": "markdown",
   "id": "223315e3-f0bc-4c01-903e-d5685578010b",
   "metadata": {},
   "source": [
    "# Convert Tuple into List"
   ]
  },
  {
   "cell_type": "code",
   "execution_count": 22,
   "id": "5331a092-c76f-46d2-bc4c-d939f658f890",
   "metadata": {},
   "outputs": [
    {
     "name": "stdout",
     "output_type": "stream",
     "text": [
      "Current Tuple :  ('apple', 'Orange', 'Cherry', 1, 2, 3, 4, 5, 10.5, 12.5, 5, 4)\n",
      "After convert :  ['apple', 'Orange', 'Cherry', 1, 2, 3, 4, 5, 10.5, 12.5, 5, 4]\n"
     ]
    }
   ],
   "source": [
    "t1 = (\"apple\",\"Orange\",\"Cherry\",1,2,3,4,5,10.5,12.5,5,4)\n",
    "print(\"Current Tuple : \",t1) #Before change\n",
    "\n",
    "x = list(t1)\n",
    "print(\"After convert : \",x)"
   ]
  },
  {
   "cell_type": "markdown",
   "id": "7a23f50e-a719-4b36-abfa-66620a692433",
   "metadata": {},
   "source": [
    "# Tuple Constructor"
   ]
  },
  {
   "cell_type": "code",
   "execution_count": 23,
   "id": "62f6171b-a1b1-45d8-8a32-fb86491d22ac",
   "metadata": {},
   "outputs": [
    {
     "name": "stdout",
     "output_type": "stream",
     "text": [
      "Convert Tuple :  ('apple', 'Orange', 'Cherry', 1, 2, 3, 4, 5, 10.5, 12.5, 5, 4)\n"
     ]
    }
   ],
   "source": [
    "t3 = tuple((\"apple\",\"Orange\",\"Cherry\",1,2,3,4,5,10.5,12.5,5,4)) # Note the double round brackets\n",
    "print(\"Convert Tuple : \",t3)"
   ]
  },
  {
   "cell_type": "markdown",
   "id": "489cbe03-e5e7-4d9a-85a7-2c7fb5a9b42b",
   "metadata": {},
   "source": [
    "# Add item but after converting tuple into list"
   ]
  },
  {
   "cell_type": "code",
   "execution_count": 30,
   "id": "52f1f3ef-b00f-484b-8acc-229861b1da18",
   "metadata": {},
   "outputs": [
    {
     "name": "stdout",
     "output_type": "stream",
     "text": [
      "Current Tuple :  ('apple', 'Orange', 'Cherry', 1, 2, 3, 4, 5, 10.5, 12.5, 5, 4)\n",
      "<class 'tuple'>\n",
      "['apple', 'Orange', 'Cherry', 1, 2, 3, 4, 5, 10.5, 12.5, 5, 4]\n",
      "<class 'list'>\n",
      "Updated List :  ['apple', 'Kiwi', 'Cherry', 1, 2, 3, 4, 5, 10.5, 12.5, 5, 4]\n",
      "Updated Tuple :  ('apple', 'Kiwi', 'Cherry', 1, 2, 3, 4, 5, 10.5, 12.5, 5, 4)\n"
     ]
    }
   ],
   "source": [
    "t4 = (\"apple\",\"Orange\",\"Cherry\",1,2,3,4,5,10.5,12.5,5,4)\n",
    "print(\"Current Tuple : \",t4) # Befor convert\n",
    "print(type(t4))\n",
    "\n",
    "# Convert tuple into list\n",
    "x = list(t4)\n",
    "print(x) # After convert\n",
    "print(type(x))\n",
    "\n",
    "# Add item into list\n",
    "x[1] = \"Kiwi\"\n",
    "print(\"Updated List : \",x)\n",
    "\n",
    "# convert list into tuple again\n",
    "y = tuple(x)\n",
    "print(\"Updated Tuple : \",y)"
   ]
  },
  {
   "cell_type": "markdown",
   "id": "707e52fd-ccc6-4050-b262-c776e097df82",
   "metadata": {},
   "source": [
    "# Loops with tuple"
   ]
  },
  {
   "cell_type": "code",
   "execution_count": 31,
   "id": "a931a674-ee34-4a81-8ac9-e49bd4181cd8",
   "metadata": {},
   "outputs": [
    {
     "name": "stdout",
     "output_type": "stream",
     "text": [
      "apple\n",
      "Orange\n",
      "Cherry\n",
      "1\n",
      "2\n",
      "3\n",
      "4\n",
      "5\n",
      "10.5\n",
      "12.5\n",
      "5\n",
      "4\n"
     ]
    }
   ],
   "source": [
    "# for loop with tuple\n",
    "t5 = (\"apple\",\"Orange\",\"Cherry\",1,2,3,4,5,10.5,12.5,5,4)\n",
    "for i in t5:\n",
    "    print(i)"
   ]
  },
  {
   "cell_type": "code",
   "execution_count": 2,
   "id": "da26f1af-76ae-43fe-9342-217a39eaab51",
   "metadata": {},
   "outputs": [
    {
     "name": "stdout",
     "output_type": "stream",
     "text": [
      "apple\n",
      "Orange\n",
      "Cherry\n",
      "1\n",
      "2\n",
      "3\n",
      "4\n",
      "5\n",
      "10.5\n",
      "12.5\n",
      "5\n",
      "4\n",
      "Loop finished\n"
     ]
    }
   ],
   "source": [
    "# while loop with tuple\n",
    "t5 = (\"apple\",\"Orange\",\"Cherry\",1,2,3,4,5,10.5,12.5,5,4)\n",
    "i = 0\n",
    "\n",
    "while i<len(t5):\n",
    "    print(t5[i])\n",
    "    i=i+1\n",
    "else:\n",
    "    print(\"Loop finished\")"
   ]
  },
  {
   "cell_type": "markdown",
   "id": "f13a998b-bc29-45a2-b3df-f8ba475fe087",
   "metadata": {},
   "source": [
    "# How to compare tuples"
   ]
  },
  {
   "cell_type": "code",
   "execution_count": 11,
   "id": "4653dfab-d64f-4ebd-ac7a-5dcd9f2e05d7",
   "metadata": {},
   "outputs": [
    {
     "name": "stdout",
     "output_type": "stream",
     "text": [
      "False\n",
      "False\n",
      "True\n"
     ]
    }
   ],
   "source": [
    "tuple1 = (\"apple\",\"Orange\",\"Cherry\",1,2,3,4,5,10.5,12.5,5,4)\n",
    "tuple2 = (\"apple\",\"Orange\",\"Cherry\",1,2,3)\n",
    "\n",
    "# tuple1 is equal to tuple2\n",
    "print(tuple1==tuple2)\n",
    "\n",
    "# tuple1 lessthan from tuple2\n",
    "print(tuple1<tuple2)\n",
    "\n",
    "# tuple1 greaterthan from tuple2\n",
    "print(tuple1>tuple2)"
   ]
  },
  {
   "cell_type": "markdown",
   "id": "9b8795bd-6921-4e4b-b824-15ab6ccce55a",
   "metadata": {},
   "source": [
    "# Creating a Dictionary"
   ]
  },
  {
   "cell_type": "code",
   "execution_count": 2,
   "id": "d13ac7d3-3bb6-465e-a3db-c4b24cb73516",
   "metadata": {},
   "outputs": [
    {
     "name": "stdout",
     "output_type": "stream",
     "text": [
      "{1: 'Apple', 2: 'Mango', 3: 'Orange', 4: 'Apple', 'A': 'B'}\n",
      "<class 'dict'>\n"
     ]
    }
   ],
   "source": [
    "d1 = {1:\"Apple\",2:\"Mango\",3:\"Orange\",4:\"Apple\",'A':'B'}\n",
    "print(d1)\n",
    "print(type(d1))"
   ]
  },
  {
   "cell_type": "markdown",
   "id": "b5716e79-a890-4e34-9ec1-3ae0c89e639e",
   "metadata": {},
   "source": [
    "# List tnto Dictionary Store"
   ]
  },
  {
   "cell_type": "code",
   "execution_count": 6,
   "id": "5ed4a0eb-0ca2-4396-8da2-c49ee62b0815",
   "metadata": {},
   "outputs": [
    {
     "name": "stdout",
     "output_type": "stream",
     "text": [
      "{1: 'Python', 2: 'Java', 'fruit': ['Apple', 'Orange', 'Mango']}\n"
     ]
    }
   ],
   "source": [
    "# Storage a list into Dictionary on a single key\n",
    "d2 = {1:\"Python\",2:\"Java\",\"fruit\":[\"Apple\",\"Orange\",\"Mango\"]}\n",
    "print(d2)"
   ]
  },
  {
   "cell_type": "markdown",
   "id": "00b79f0a-88a9-499f-9f61-c0b4bd443712",
   "metadata": {},
   "source": [
    "# Tuple into Dictionary Store"
   ]
  },
  {
   "cell_type": "code",
   "execution_count": 7,
   "id": "8859d357-92be-42cf-a793-8d91a28b03f5",
   "metadata": {},
   "outputs": [
    {
     "name": "stdout",
     "output_type": "stream",
     "text": [
      "{1: 'python', 2: 'Java', 'Language': ('Java', 'python', 'php')}\n"
     ]
    }
   ],
   "source": [
    "# storing a tuple into Dictionary on a single key\n",
    "d3 = {1:\"python\",2:\"Java\",\"Language\":(\"Java\",\"python\",\"php\")}\n",
    "print(d3)"
   ]
  },
  {
   "cell_type": "markdown",
   "id": "55e236d0-a42e-4b4e-a5a1-37868daafa1d",
   "metadata": {},
   "source": [
    "# Access the value of Dictionary"
   ]
  },
  {
   "cell_type": "code",
   "execution_count": 34,
   "id": "7a0e1882-f092-4670-aa11-12699af96a30",
   "metadata": {},
   "outputs": [
    {
     "name": "stdout",
     "output_type": "stream",
     "text": [
      "Current dict :  {1: 'Apple', 2: 'Mango', 3: 'Orange', 4: 'Apple', 'A': 'B'}\n",
      "Orange\n",
      "Apple\n",
      "dict_items([(1, 'Apple'), (2, 'Mango'), (3, 'Orange'), (4, 'Apple'), ('A', 'B')])\n",
      "keys :  dict_keys([1, 2, 3, 4, 'A'])\n",
      "Values :  dict_values(['Apple', 'Mango', 'Orange', 'Apple', 'B'])\n"
     ]
    }
   ],
   "source": [
    "d1 = {1:\"Apple\",2:\"Mango\",3:\"Orange\",4:\"Apple\",'A':'B'}\n",
    "print(\"Current dict : \",d1)\n",
    "\n",
    "# Access the value using key\n",
    "x = d1[3]\n",
    "print(x)\n",
    "\n",
    "# Access the value using get()\n",
    "y = d1.get(1)\n",
    "print(y)\n",
    "\n",
    "# Access the value using item()\n",
    "z = d1.items()\n",
    "print(z)\n",
    "\n",
    "# Access the only key from Dictionary\n",
    "k = d1.keys()\n",
    "print(\"keys : \",k)\n",
    "\n",
    "# Access the only value from Dictionary\n",
    "v = d1.values()\n",
    "print(\"Values : \",v)"
   ]
  },
  {
   "cell_type": "markdown",
   "id": "359e5a6a-9713-48a6-9f19-6957211ea7ab",
   "metadata": {},
   "source": [
    "# Change the value"
   ]
  },
  {
   "cell_type": "code",
   "execution_count": 17,
   "id": "b4974a69-45f8-48a0-a9c3-c7cf6880f548",
   "metadata": {},
   "outputs": [
    {
     "name": "stdout",
     "output_type": "stream",
     "text": [
      "Update Dict :  {1: 'Apple', 2: 'Mango', 3: 'kiwi', 4: 'Apple', 'A': 'B'}\n"
     ]
    }
   ],
   "source": [
    "d1 = {1:\"Apple\",2:\"Mango\",3:\"Orange\",4:\"Apple\",'A':'B'}\n",
    "d1[3] = \"kiwi\"\n",
    "print(\"Update Dict : \",d1)"
   ]
  },
  {
   "cell_type": "code",
   "execution_count": 20,
   "id": "6a54ce31-5cdd-458b-89ac-93e880b29793",
   "metadata": {},
   "outputs": [
    {
     "name": "stdout",
     "output_type": "stream",
     "text": [
      "Current dict :  {1: 'Apple', 2: 'Bannana', 3: 'kiwi', 4: 'Apple', 'A': 'B'}\n",
      "Update dict :  {1: 'Apple', 2: 'Bannana', 3: 'kiwi', 4: 'Apple', 'A': 'B'}\n"
     ]
    }
   ],
   "source": [
    "# Update Dictionary by using update()\n",
    "print(\"Current dict : \",d1)\n",
    "# Update dictionary by using update method\n",
    "d1.update({2:\"Bannana\"})\n",
    "print(\"Update dict : \",d1)"
   ]
  },
  {
   "cell_type": "markdown",
   "id": "8e9cbec7-0240-47e2-abbc-dd1563881ce3",
   "metadata": {},
   "source": [
    "# Remove values from dictionary"
   ]
  },
  {
   "cell_type": "code",
   "execution_count": 32,
   "id": "32bb5c48-a1c3-48ad-8d4b-f26bf0938352",
   "metadata": {},
   "outputs": [
    {
     "name": "stdout",
     "output_type": "stream",
     "text": [
      "Current Dict :  {1: 'Apple', 2: 'Mango', 3: 'Orange', 4: 'Apple', 'A': 'B'}\n",
      "Update Dict :  {}\n"
     ]
    }
   ],
   "source": [
    "# Using pop()\n",
    "d1 = {1:\"Apple\",2:\"Mango\",3:\"Orange\",4:\"Apple\",'A':'B'}\n",
    "print(\"Current Dict : \",d1)\n",
    "\n",
    "#d1.pop(2)\n",
    "#print(\"Update Dist : \",d1)\n",
    "\n",
    "# Using popitem()\n",
    "\n",
    "#d1.popitem()\n",
    "#print(\"Update Dict : \",d1)\n",
    "\n",
    "# Using del()\n",
    "#del d1[1]\n",
    "#print(\"Update Dict : \",d1)\n",
    "\n",
    "# Using Clear()\n",
    "d1.clear()\n",
    "print(\"Update Dict : \",d1)"
   ]
  },
  {
   "cell_type": "markdown",
   "id": "b974d672-e50d-4f6e-bfc6-ea5c996de889",
   "metadata": {},
   "source": [
    "# In-build Function"
   ]
  },
  {
   "cell_type": "code",
   "execution_count": 13,
   "id": "3b1648d8-1a02-4f3c-8a6e-d475b087c2c3",
   "metadata": {},
   "outputs": [
    {
     "name": "stdout",
     "output_type": "stream",
     "text": [
      "Hello World\n",
      "1\n",
      "2\n",
      "3\n",
      "4\n",
      "5\n",
      "6\n",
      "7\n",
      "8\n",
      "53.79\n"
     ]
    }
   ],
   "source": [
    "# Print() Function\n",
    "print(\"Hello World\")\n",
    "\n",
    "# Range() Function\n",
    "for i in range(1,9):\n",
    "    print(i)\n",
    "    \n",
    "# Round() Function\n",
    "x = round(53.7865,2)\n",
    "print(x)"
   ]
  },
  {
   "cell_type": "markdown",
   "id": "5019c338-51de-4db9-ad76-496c5ea20959",
   "metadata": {},
   "source": [
    "# User Define Function"
   ]
  },
  {
   "cell_type": "code",
   "execution_count": 15,
   "id": "57382563-bdd5-47f4-aa7e-3015245a5d9a",
   "metadata": {},
   "outputs": [
    {
     "name": "stdout",
     "output_type": "stream",
     "text": [
      "hello\n"
     ]
    }
   ],
   "source": [
    "# Create function\n",
    "def myfunction():\n",
    "    print(\"hello\")\n",
    "    \n",
    "# Calling a function\n",
    "myfunction()"
   ]
  },
  {
   "cell_type": "markdown",
   "id": "b5c79f0a-06ef-4cac-bfcc-65b7597edc97",
   "metadata": {},
   "source": [
    "# Function with one Arguments"
   ]
  },
  {
   "cell_type": "code",
   "execution_count": 1,
   "id": "aeb388a0-30c4-4d6a-a945-0b51ac2eb0e7",
   "metadata": {},
   "outputs": [
    {
     "name": "stdout",
     "output_type": "stream",
     "text": [
      "A :  10\n"
     ]
    }
   ],
   "source": [
    "# Creating a function\n",
    "def myfunction(a):\n",
    "    print(\"A : \",a)\n",
    "    \n",
    "# Calling a function\n",
    "myfunction(10) #Passing argument as a 10"
   ]
  },
  {
   "cell_type": "markdown",
   "id": "de4f6347-fbba-4222-9fd0-9883e71514d4",
   "metadata": {},
   "source": [
    "# Multiple Arguments into Function"
   ]
  },
  {
   "cell_type": "code",
   "execution_count": 19,
   "id": "73fb5021-e890-4a30-a666-8beace5e9699",
   "metadata": {},
   "outputs": [
    {
     "name": "stdout",
     "output_type": "stream",
     "text": [
      "A :  10\n",
      "B :  20\n"
     ]
    }
   ],
   "source": [
    "# Creating a function\n",
    "def myfunction(a,b):\n",
    "    print(\"A : \",a)\n",
    "    print(\"B : \",b)\n",
    "    \n",
    "# Calling a function\n",
    "myfunction(10,20)  # Passing 2 argument"
   ]
  },
  {
   "cell_type": "markdown",
   "id": "267048c4-aa9a-4446-8eed-be54eebafc69",
   "metadata": {},
   "source": [
    "# Keywords Arguments"
   ]
  },
  {
   "cell_type": "code",
   "execution_count": 22,
   "id": "6b60667a-18f0-4eb0-9719-a537f95fd6e2",
   "metadata": {},
   "outputs": [
    {
     "name": "stdout",
     "output_type": "stream",
     "text": [
      "Youngest child is : Geeta\n"
     ]
    }
   ],
   "source": [
    "# Creating a function\n",
    "\n",
    "def myfunction(child3,child2,child1):\n",
    "    print(\"Youngest child is : \"+child3)\n",
    "    \n",
    "# calling a function\n",
    "myfunction(child1=\"Ritesh\",child2=\"Ram\",child3=\"Geeta\")"
   ]
  },
  {
   "cell_type": "markdown",
   "id": "f7e5ee19-7560-4e96-9777-523d36b0286c",
   "metadata": {},
   "source": [
    "# Default Parameter Value"
   ]
  },
  {
   "cell_type": "code",
   "execution_count": 1,
   "id": "d7a724b4-643e-4f2a-8a7b-2f7c584bf77a",
   "metadata": {},
   "outputs": [
    {
     "name": "stdout",
     "output_type": "stream",
     "text": [
      "I am from : Rajastan\n",
      "I am from : Punjab\n",
      "I am from : Uter Pradesh\n",
      "I am from : Gujarat\n"
     ]
    }
   ],
   "source": [
    "# Creating a function\n",
    "\n",
    "def myfunction(state=\"Gujarat\"):\n",
    "    print(\"I am from : \"+state)\n",
    "    \n",
    "# calling a function\n",
    "myfunction(\"Rajastan\")\n",
    "myfunction(\"Punjab\")\n",
    "myfunction(\"Uter Pradesh\")\n",
    "myfunction()"
   ]
  },
  {
   "cell_type": "markdown",
   "id": "1fbdf6f5-e61e-4664-a59b-4698d8617685",
   "metadata": {},
   "source": [
    "# Passing a list into function"
   ]
  },
  {
   "cell_type": "code",
   "execution_count": 3,
   "id": "6b1c5e10-3f60-464f-af94-6849fe072249",
   "metadata": {},
   "outputs": [
    {
     "name": "stdout",
     "output_type": "stream",
     "text": [
      "Apple\n",
      "Mango\n",
      "Orange\n"
     ]
    }
   ],
   "source": [
    "# Creating a function\n",
    "def myfunction(fruit):\n",
    "    for i in fruit:\n",
    "        print(i)\n",
    "f = [\"Apple\",\"Mango\",\"Orange\"]\n",
    "\n",
    "# Calling a function\n",
    "myfunction(f)"
   ]
  },
  {
   "cell_type": "markdown",
   "id": "2d834f9d-3399-426b-85f9-0a7bbcbab989",
   "metadata": {},
   "source": [
    "# Return values from function"
   ]
  },
  {
   "cell_type": "code",
   "execution_count": 4,
   "id": "c703f6ee-189e-4a52-9093-0a7185a3af31",
   "metadata": {},
   "outputs": [
    {
     "name": "stdout",
     "output_type": "stream",
     "text": [
      "15\n",
      "20\n",
      "25\n"
     ]
    }
   ],
   "source": [
    "# Creating a function\n",
    "\n",
    "def myfunction(x):\n",
    "    return 5*x\n",
    "\n",
    "# Calling a function\n",
    "print(myfunction(3))\n",
    "print(myfunction(4))\n",
    "print(myfunction(5))"
   ]
  },
  {
   "cell_type": "markdown",
   "id": "9c83d568-c05a-479f-a2f0-9db86b736d3e",
   "metadata": {},
   "source": [
    "# Recursion Function"
   ]
  },
  {
   "cell_type": "code",
   "execution_count": 5,
   "id": "d243f40e-923f-48c0-863d-fac1fa3d5d24",
   "metadata": {},
   "outputs": [
    {
     "name": "stdout",
     "output_type": "stream",
     "text": [
      "Num :  5\n"
     ]
    },
    {
     "name": "stdout",
     "output_type": "stream",
     "text": [
      "The factorial of  5 is :  120\n"
     ]
    }
   ],
   "source": [
    "# The function which call itself\n",
    "\n",
    "# Creating a function\n",
    "\n",
    "def factorial(x):\n",
    "    if x == 1:\n",
    "        return 1\n",
    "    else:\n",
    "        # Calling recursion function\n",
    "        return(x*factorial(x-1))\n",
    "num = int(input(\"Num : \"))\n",
    "print(\"The factorial of \",num,\"is : \",factorial(num))"
   ]
  },
  {
   "cell_type": "markdown",
   "id": "02c21261-e912-43eb-bcf0-1ee86d809b5d",
   "metadata": {},
   "source": [
    "# Anonymous Function (Lambada Function)"
   ]
  },
  {
   "cell_type": "code",
   "execution_count": 7,
   "id": "0c252969-f986-488c-abfb-54560b58ef71",
   "metadata": {},
   "outputs": [
    {
     "name": "stdout",
     "output_type": "stream",
     "text": [
      "15\n",
      "50\n"
     ]
    }
   ],
   "source": [
    "# Creating a function\n",
    "x = lambda a: a+10\n",
    "print(x(5))\n",
    "\n",
    "\n",
    "# Lambda Function with multiple Argument\n",
    "y = lambda a,b:a*b\n",
    "print(y(5,10))"
   ]
  },
  {
   "cell_type": "markdown",
   "id": "97e0ddaa-3bca-418f-912f-a4bf901d28c7",
   "metadata": {},
   "source": [
    "# Global Variable"
   ]
  },
  {
   "cell_type": "code",
   "execution_count": 9,
   "id": "702131d4-26db-4481-84bf-c9fa1c5283e5",
   "metadata": {},
   "outputs": [
    {
     "name": "stdout",
     "output_type": "stream",
     "text": [
      "25\n",
      "20\n"
     ]
    }
   ],
   "source": [
    "# Global variable means the variable can be use anywhere in the program\n",
    "\n",
    "z = 25 #Global variable\n",
    "def myfunction():\n",
    "    global z\n",
    "    print(z)\n",
    "    z = 20\n",
    "    \n",
    "myfunction()\n",
    "print(z)"
   ]
  },
  {
   "cell_type": "markdown",
   "id": "0c9dc248-0081-4fec-b2c2-2d0e25e35472",
   "metadata": {},
   "source": [
    "# Local Variable                "
   ]
  },
  {
   "cell_type": "code",
   "execution_count": 11,
   "id": "2573d200-5fe8-4657-b108-330bcd847360",
   "metadata": {},
   "outputs": [
    {
     "name": "stdout",
     "output_type": "stream",
     "text": [
      "15\n",
      "<function <lambda> at 0x00000192FB5AAE60>\n"
     ]
    }
   ],
   "source": [
    "# The variable which can be used in it scop\n",
    "\n",
    "def sum(x,y):\n",
    "    sum = x+y\n",
    "    return sum\n",
    "\n",
    "print(sum(5,10))\n",
    "print(x) #Variable x is local variable"
   ]
  },
  {
   "cell_type": "markdown",
   "id": "fc880c8d",
   "metadata": {},
   "source": [
    "# Random Module in Python"
   ]
  },
  {
   "cell_type": "markdown",
   "id": "4b412bd9",
   "metadata": {},
   "source": [
    "# Import Random"
   ]
  },
  {
   "cell_type": "code",
   "execution_count": null,
   "id": "edfd2195",
   "metadata": {},
   "outputs": [],
   "source": [
    "# from random import functionname\n",
    "\n",
    "# import name"
   ]
  },
  {
   "cell_type": "markdown",
   "id": "ed122a8d",
   "metadata": {},
   "source": [
    "# Chice"
   ]
  },
  {
   "cell_type": "code",
   "execution_count": 13,
   "id": "30acb359",
   "metadata": {},
   "outputs": [
    {
     "name": "stdout",
     "output_type": "stream",
     "text": [
      "2\n"
     ]
    }
   ],
   "source": [
    "from random import choice\n",
    "\n",
    "l1 = [1,2,3,4,5,6]\n",
    "print(choice(l1))"
   ]
  },
  {
   "cell_type": "markdown",
   "id": "a463f66f",
   "metadata": {},
   "source": [
    "# Randint()"
   ]
  },
  {
   "cell_type": "code",
   "execution_count": 25,
   "id": "a986abde",
   "metadata": {},
   "outputs": [
    {
     "name": "stdout",
     "output_type": "stream",
     "text": [
      "your Otp :  983941\n"
     ]
    }
   ],
   "source": [
    "from random import randint\n",
    "\n",
    "otp = randint(10000,999999)\n",
    "print(\"your Otp : \",otp)"
   ]
  },
  {
   "cell_type": "markdown",
   "id": "e2e0287a",
   "metadata": {},
   "source": [
    "# Shuffle()"
   ]
  },
  {
   "cell_type": "code",
   "execution_count": 30,
   "id": "ecb6cdf9",
   "metadata": {},
   "outputs": [
    {
     "name": "stdout",
     "output_type": "stream",
     "text": [
      "['Bannana', 'Mango', 'Apple']\n"
     ]
    }
   ],
   "source": [
    "from random import shuffle\n",
    "\n",
    "l2 = [\"Apple\",\"Bannana\",\"Mango\"]\n",
    "shuffle(l2)\n",
    "print(l2)"
   ]
  },
  {
   "cell_type": "markdown",
   "id": "cbcc479b-8d17-486d-8f31-8eb65aa8fc10",
   "metadata": {},
   "source": [
    "# Math Module"
   ]
  },
  {
   "cell_type": "markdown",
   "id": "36917a58-4e78-4fba-a1d5-6e80454dc60c",
   "metadata": {},
   "source": [
    "# Import Math"
   ]
  },
  {
   "cell_type": "code",
   "execution_count": null,
   "id": "269cf233-615f-4a7f-9416-119671d72a02",
   "metadata": {},
   "outputs": [],
   "source": [
    "# import math\n",
    "# from math import function name\n"
   ]
  },
  {
   "cell_type": "markdown",
   "id": "b2429866-bd06-42e1-abf2-141bd59349a2",
   "metadata": {},
   "source": [
    "# Factorial()"
   ]
  },
  {
   "cell_type": "code",
   "execution_count": 6,
   "id": "7226308b-c211-45f1-bb5c-64f8570af0d2",
   "metadata": {},
   "outputs": [
    {
     "name": "stdout",
     "output_type": "stream",
     "text": [
      "24\n"
     ]
    }
   ],
   "source": [
    "import math\n",
    "\n",
    "print(math.factorial(4))"
   ]
  },
  {
   "cell_type": "markdown",
   "id": "1b07c819-5dc3-4963-87f8-c04f9149294f",
   "metadata": {},
   "source": [
    "# Ceil"
   ]
  },
  {
   "cell_type": "code",
   "execution_count": 13,
   "id": "54700ada-7679-4a2f-9314-51e7399748cb",
   "metadata": {},
   "outputs": [
    {
     "name": "stdout",
     "output_type": "stream",
     "text": [
      "2\n",
      "6\n",
      "-5\n"
     ]
    }
   ],
   "source": [
    "import math   # uper value collect\n",
    "\n",
    "print(math.ceil(1.4))\n",
    "print(math.ceil(5.3))\n",
    "print(math.ceil(-5.3))"
   ]
  },
  {
   "cell_type": "markdown",
   "id": "ce641729-2671-4dbb-9d1e-4097acbdcfb1",
   "metadata": {},
   "source": [
    "# Floor ()"
   ]
  },
  {
   "cell_type": "code",
   "execution_count": 15,
   "id": "903a4143-03aa-4be6-b587-73b47a3cdfbd",
   "metadata": {},
   "outputs": [
    {
     "name": "stdout",
     "output_type": "stream",
     "text": [
      "0\n",
      "1\n"
     ]
    }
   ],
   "source": [
    "import math   # Down value collect\n",
    "\n",
    "print(math.floor(0.6))\n",
    "print(math.floor(1.4))"
   ]
  },
  {
   "cell_type": "markdown",
   "id": "faf042dd-3fb3-4dd2-8e2e-13aefad7539f",
   "metadata": {},
   "source": [
    "# Sqrt ()"
   ]
  },
  {
   "cell_type": "code",
   "execution_count": 22,
   "id": "4b535683-130e-4171-ae12-67f37cad2600",
   "metadata": {},
   "outputs": [
    {
     "name": "stdout",
     "output_type": "stream",
     "text": [
      "3.1622776601683795\n"
     ]
    }
   ],
   "source": [
    "import math   # Root over squre value collect\n",
    "\n",
    "print(math.sqrt(10))"
   ]
  },
  {
   "cell_type": "markdown",
   "id": "001cb501-2335-49b9-834f-f5e43274f1cd",
   "metadata": {},
   "source": [
    "# File Handling"
   ]
  },
  {
   "cell_type": "markdown",
   "id": "b9dcc883-30c8-4217-94f5-a1fc9f60b67e",
   "metadata": {},
   "source": [
    "# File Creating"
   ]
  },
  {
   "cell_type": "code",
   "execution_count": 1,
   "id": "089120c3-bbf8-43f4-8a07-673bdfa3f968",
   "metadata": {},
   "outputs": [
    {
     "name": "stdout",
     "output_type": "stream",
     "text": [
      "File created\n"
     ]
    }
   ],
   "source": [
    "# Open method(\"File name\",\"Permission\")\n",
    "s = \"This is my file handling Program\"\n",
    "file = open(\"demo.txt\",\"w\")\n",
    "file.write(s)\n",
    "print(\"File created\")\n",
    "file.close()"
   ]
  },
  {
   "cell_type": "markdown",
   "id": "fff5a22f-63fc-4bf3-9c80-bed1cb60ceb2",
   "metadata": {},
   "source": [
    "# File Read"
   ]
  },
  {
   "cell_type": "code",
   "execution_count": 2,
   "id": "d6246bb3-82b9-44a4-a37e-16f6fffc877e",
   "metadata": {},
   "outputs": [
    {
     "name": "stdout",
     "output_type": "stream",
     "text": [
      "This is my file handling Program\n"
     ]
    }
   ],
   "source": [
    "file = open(\"demo.txt\",\"r\")\n",
    "filecontent = file.read()\n",
    "print(filecontent)"
   ]
  },
  {
   "cell_type": "markdown",
   "id": "a777be3f-406a-4d30-806b-fb4c23fc01dd",
   "metadata": {},
   "source": [
    "# Write a list into File"
   ]
  },
  {
   "cell_type": "code",
   "execution_count": 4,
   "id": "933c1776-e884-4a5d-9d12-63bfad4def03",
   "metadata": {},
   "outputs": [
    {
     "name": "stdout",
     "output_type": "stream",
     "text": [
      "file created\n"
     ]
    }
   ],
   "source": [
    "l1 = [\"Python\",\"java\",\"php\",\"angular\"]\n",
    "file = open(\"demo2.txt\",\"w\")\n",
    "file.writelines(l1)\n",
    "print(\"file created\")\n",
    "file.close()"
   ]
  },
  {
   "cell_type": "markdown",
   "id": "2978f722-68a7-46af-a344-260685b0b8bb",
   "metadata": {},
   "source": [
    "# Read a list from File"
   ]
  },
  {
   "cell_type": "code",
   "execution_count": 5,
   "id": "aa64b0af-cb3d-4a75-8126-a09eeeb3aeb0",
   "metadata": {},
   "outputs": [
    {
     "name": "stdout",
     "output_type": "stream",
     "text": [
      "['Pythonjavaphpangular']\n"
     ]
    }
   ],
   "source": [
    "file = open(\"demo2.txt\",\"r\")\n",
    "filelist = file.readlines()\n",
    "print(filelist)"
   ]
  },
  {
   "cell_type": "markdown",
   "id": "3ee37eb6-b465-4fd9-8e60-b9cf45156bf9",
   "metadata": {},
   "source": [
    "# appending the valu into file"
   ]
  },
  {
   "cell_type": "code",
   "execution_count": 6,
   "id": "562bedf0-4bda-4539-bf82-b91e9cfb9da9",
   "metadata": {},
   "outputs": [
    {
     "name": "stdout",
     "output_type": "stream",
     "text": [
      "File updated\n"
     ]
    }
   ],
   "source": [
    "s = \"python file handling\"\n",
    "file = open(\"demo.txt\",\"a\")\n",
    "file.write(s)\n",
    "print(\"File updated\")\n",
    "file.close()"
   ]
  },
  {
   "cell_type": "markdown",
   "id": "99e93517-bb71-4db0-94b8-b8efe46155c3",
   "metadata": {},
   "source": [
    "# Exception Handling"
   ]
  },
  {
   "cell_type": "markdown",
   "id": "e5454a78-7cc0-472c-a536-89d9e7656196",
   "metadata": {},
   "source": [
    "# Exception Creat"
   ]
  },
  {
   "cell_type": "code",
   "execution_count": 5,
   "id": "3e0dacb2-bd79-4c8e-b353-57d9409609d1",
   "metadata": {},
   "outputs": [
    {
     "name": "stdout",
     "output_type": "stream",
     "text": [
      "Enter the value of A :  hello\n"
     ]
    },
    {
     "ename": "ValueError",
     "evalue": "invalid literal for int() with base 10: 'hello'",
     "output_type": "error",
     "traceback": [
      "\u001b[1;31m---------------------------------------------------------------------------\u001b[0m",
      "\u001b[1;31mValueError\u001b[0m                                Traceback (most recent call last)",
      "Cell \u001b[1;32mIn [5], line 1\u001b[0m\n\u001b[1;32m----> 1\u001b[0m a \u001b[38;5;241m=\u001b[39m \u001b[38;5;28;43mint\u001b[39;49m\u001b[43m(\u001b[49m\u001b[38;5;28;43minput\u001b[39;49m\u001b[43m(\u001b[49m\u001b[38;5;124;43m\"\u001b[39;49m\u001b[38;5;124;43mEnter the value of A : \u001b[39;49m\u001b[38;5;124;43m\"\u001b[39;49m\u001b[43m)\u001b[49m\u001b[43m)\u001b[49m\n\u001b[0;32m      2\u001b[0m \u001b[38;5;28mprint\u001b[39m(\u001b[38;5;124m\"\u001b[39m\u001b[38;5;124mA : \u001b[39m\u001b[38;5;124m\"\u001b[39m,a)\n\u001b[0;32m      3\u001b[0m \u001b[38;5;28mprint\u001b[39m(\u001b[38;5;124m\"\u001b[39m\u001b[38;5;124mBye\u001b[39m\u001b[38;5;124m\"\u001b[39m)\n",
      "\u001b[1;31mValueError\u001b[0m: invalid literal for int() with base 10: 'hello'"
     ]
    }
   ],
   "source": [
    "a = int(input(\"Enter the value of A : \"))\n",
    "print(\"A : \",a)\n",
    "# we got a wrong input by the user\n",
    "print(\"Bye\")"
   ]
  },
  {
   "cell_type": "code",
   "execution_count": 7,
   "id": "8b19c3a6-e595-4f93-98dc-31a419b0441a",
   "metadata": {},
   "outputs": [
    {
     "name": "stdout",
     "output_type": "stream",
     "text": [
      "Enter the value of A :  10\n",
      "Enter the value of B :  0\n"
     ]
    },
    {
     "ename": "ZeroDivisionError",
     "evalue": "division by zero",
     "output_type": "error",
     "traceback": [
      "\u001b[1;31m---------------------------------------------------------------------------\u001b[0m",
      "\u001b[1;31mZeroDivisionError\u001b[0m                         Traceback (most recent call last)",
      "Cell \u001b[1;32mIn [7], line 4\u001b[0m\n\u001b[0;32m      1\u001b[0m a \u001b[38;5;241m=\u001b[39m \u001b[38;5;28mint\u001b[39m(\u001b[38;5;28minput\u001b[39m(\u001b[38;5;124m\"\u001b[39m\u001b[38;5;124mEnter the value of A : \u001b[39m\u001b[38;5;124m\"\u001b[39m))\n\u001b[0;32m      2\u001b[0m b \u001b[38;5;241m=\u001b[39m \u001b[38;5;28mint\u001b[39m(\u001b[38;5;28minput\u001b[39m(\u001b[38;5;124m\"\u001b[39m\u001b[38;5;124mEnter the value of B : \u001b[39m\u001b[38;5;124m\"\u001b[39m))\n\u001b[1;32m----> 4\u001b[0m c \u001b[38;5;241m=\u001b[39m \u001b[43ma\u001b[49m\u001b[38;5;241;43m/\u001b[39;49m\u001b[43mb\u001b[49m \u001b[38;5;66;03m# Exception occur on runtime because division by zero\u001b[39;00m\n\u001b[0;32m      6\u001b[0m \u001b[38;5;28mprint\u001b[39m(\u001b[38;5;124m\"\u001b[39m\u001b[38;5;124mAnswer : \u001b[39m\u001b[38;5;124m\"\u001b[39m,c)\n\u001b[0;32m      8\u001b[0m \u001b[38;5;28mprint\u001b[39m(\u001b[38;5;124m\"\u001b[39m\u001b[38;5;124mBye\u001b[39m\u001b[38;5;124m\"\u001b[39m)\n",
      "\u001b[1;31mZeroDivisionError\u001b[0m: division by zero"
     ]
    }
   ],
   "source": [
    "a = int(input(\"Enter the value of A : \"))\n",
    "b = int(input(\"Enter the value of B : \"))\n",
    "\n",
    "c = a/b # Exception occur on runtime because division by zero\n",
    "\n",
    "print(\"Answer : \",c)\n",
    "\n",
    "print(\"Bye\")"
   ]
  },
  {
   "cell_type": "code",
   "execution_count": 9,
   "id": "d13fe649-6d10-405d-9b1b-232bf6d0297e",
   "metadata": {},
   "outputs": [
    {
     "name": "stdout",
     "output_type": "stream",
     "text": [
      "Enter the value of A :  56\n",
      "Enter the value of B :  fgbdf\n"
     ]
    },
    {
     "name": "stdout",
     "output_type": "stream",
     "text": [
      "Exception caught :  invalid literal for int() with base 10: 'fgbdf'\n",
      "Bye\n"
     ]
    }
   ],
   "source": [
    "try:\n",
    "# The code which is written try block can be occur error at runtime\n",
    "    a = int(input(\"Enter the value of A : \"))\n",
    "    b = int(input(\"Enter the value of B : \"))\n",
    "\n",
    "    c = a/b # Exception occur on runtime because division by zero\n",
    "\n",
    "    print(\"Answer : \",c)\n",
    "except Exception as e:\n",
    "    # This block will run when exception occur\n",
    "    print(\"Exception caught : \",e)\n",
    "    \n",
    "print(\"Bye\")"
   ]
  },
  {
   "cell_type": "markdown",
   "id": "159bb81a-2026-4e20-9538-6aa7f357f7c7",
   "metadata": {},
   "source": [
    "# Many Exception"
   ]
  },
  {
   "cell_type": "code",
   "execution_count": 11,
   "id": "cc8ccbad-3794-4296-b17f-139384b2e72b",
   "metadata": {},
   "outputs": [
    {
     "name": "stdout",
     "output_type": "stream",
     "text": [
      "Variable is not define\n"
     ]
    }
   ],
   "source": [
    "try:\n",
    "    # We have not define variable x\n",
    "    print(x)\n",
    "except NameError:\n",
    "    print(\"Variable is not define\")\n",
    "except:\n",
    "    print(\"Exception caught\")"
   ]
  },
  {
   "cell_type": "markdown",
   "id": "e8b0e997-f913-4dfc-bd98-65e97e47a4b2",
   "metadata": {},
   "source": [
    "# How to use else with except"
   ]
  },
  {
   "cell_type": "code",
   "execution_count": 13,
   "id": "091570bc-dfc2-4f46-a92a-43dbd9db7816",
   "metadata": {},
   "outputs": [
    {
     "name": "stdout",
     "output_type": "stream",
     "text": [
      "Something went wrong\n"
     ]
    }
   ],
   "source": [
    "try:\n",
    "#    print(\"Hello\")\n",
    "    print(x)\n",
    "except:\n",
    "    print(\"Something went wrong\")\n",
    "else:\n",
    "    print(\"Nothing went wrong\")"
   ]
  },
  {
   "cell_type": "markdown",
   "id": "740dfc89-b7c4-4123-81e9-39ae90ef030d",
   "metadata": {},
   "source": [
    "# Finally Block"
   ]
  },
  {
   "cell_type": "code",
   "execution_count": 15,
   "id": "f8db775f-1cb6-4560-b4bb-a2fbd3bd1e2d",
   "metadata": {},
   "outputs": [
    {
     "name": "stdout",
     "output_type": "stream",
     "text": [
      "Something went wrong\n",
      "Finally block\n"
     ]
    }
   ],
   "source": [
    "# The block which run compulsory if error occurs or not\n",
    "try:\n",
    "#    print(\"Hello\")\n",
    "    print(x)\n",
    "except:\n",
    "    print(\"Something went wrong\")\n",
    "finally:\n",
    "    print(\"Finally block\")"
   ]
  },
  {
   "cell_type": "markdown",
   "id": "0812137e-5c88-430d-b15e-ebda217bedc8",
   "metadata": {},
   "source": [
    "# User Define Exception"
   ]
  },
  {
   "cell_type": "code",
   "execution_count": 18,
   "id": "60390a2d-6cfb-43a4-b990-1bb1216c467d",
   "metadata": {},
   "outputs": [
    {
     "ename": "Myexception",
     "evalue": "Something went wrong",
     "output_type": "error",
     "traceback": [
      "\u001b[1;31m---------------------------------------------------------------------------\u001b[0m",
      "\u001b[1;31mMyexception\u001b[0m                               Traceback (most recent call last)",
      "Cell \u001b[1;32mIn [18], line 6\u001b[0m\n\u001b[0;32m      4\u001b[0m c \u001b[38;5;241m=\u001b[39m \u001b[38;5;241m25\u001b[39m\n\u001b[0;32m      5\u001b[0m \u001b[38;5;28;01mif\u001b[39;00m c\u001b[38;5;241m>\u001b[39m\u001b[38;5;241m5\u001b[39m:\n\u001b[1;32m----> 6\u001b[0m     \u001b[38;5;28;01mraise\u001b[39;00m Myexception(\u001b[38;5;124m\"\u001b[39m\u001b[38;5;124mSomething went wrong\u001b[39m\u001b[38;5;124m\"\u001b[39m)\n",
      "\u001b[1;31mMyexception\u001b[0m: Something went wrong"
     ]
    }
   ],
   "source": [
    "class Myexception(Exception):\n",
    "    pass\n",
    "\n",
    "c = 25\n",
    "if c>5:\n",
    "    raise Myexception(\"Something went wrong\")"
   ]
  },
  {
   "cell_type": "markdown",
   "id": "df9bbbdd-3c60-49bb-879b-7c002aaecc33",
   "metadata": {},
   "source": [
    "# How to create a Class"
   ]
  },
  {
   "cell_type": "code",
   "execution_count": 1,
   "id": "a7fb4715-d8bd-4024-a761-4dc8330209eb",
   "metadata": {},
   "outputs": [
    {
     "name": "stdout",
     "output_type": "stream",
     "text": [
      "<class '__main__.myclass'>\n"
     ]
    }
   ],
   "source": [
    "class myclass:\n",
    "    x = 5 #property of class\n",
    "\n",
    "print(myclass)"
   ]
  },
  {
   "cell_type": "markdown",
   "id": "51ed23ec-38ee-4040-820e-27eebea0f9e6",
   "metadata": {},
   "source": [
    "# How to create object"
   ]
  },
  {
   "cell_type": "code",
   "execution_count": 2,
   "id": "d02f878e-ecf7-4495-8371-f3ae66568315",
   "metadata": {},
   "outputs": [
    {
     "name": "stdout",
     "output_type": "stream",
     "text": [
      "5\n"
     ]
    }
   ],
   "source": [
    "class myclass:\n",
    "    x = 5 # property of class\n",
    "    \n",
    "#creating object of myclass\n",
    "m1 = myclass() # m1 is an object of class myclass\n",
    "print(m1.x)"
   ]
  },
  {
   "cell_type": "markdown",
   "id": "52acece4-0959-425f-b0b1-6e89a4f593b3",
   "metadata": {},
   "source": [
    "# Calling a function by object"
   ]
  },
  {
   "cell_type": "code",
   "execution_count": 4,
   "id": "8b855d88-19cf-4ec0-88c4-309c84d57ded",
   "metadata": {},
   "outputs": [
    {
     "name": "stdout",
     "output_type": "stream",
     "text": [
      "Hello myFunction\n"
     ]
    }
   ],
   "source": [
    "class myclass:\n",
    "    def myfunction(self): # property of myclass\n",
    "        print(\"Hello myFunction\")\n",
    "# Creating an object\n",
    "m1 = myclass()\n",
    "m1.myfunction()"
   ]
  },
  {
   "cell_type": "markdown",
   "id": "f7153bfb-b9ca-46ea-a81a-e154fdac1759",
   "metadata": {},
   "source": [
    "# How create constructor"
   ]
  },
  {
   "cell_type": "code",
   "execution_count": 8,
   "id": "676d4427-6428-4bcc-883c-fe776e642669",
   "metadata": {},
   "outputs": [
    {
     "name": "stdout",
     "output_type": "stream",
     "text": [
      "This is my constuctor\n"
     ]
    }
   ],
   "source": [
    "class myclass:\n",
    "    # Creating a constructor\n",
    "    def __init__(self):\n",
    "        print(\"This is my constuctor\")\n",
    "        \n",
    "#creating an object\n",
    "m1 = myclass()\n",
    "        "
   ]
  },
  {
   "cell_type": "markdown",
   "id": "7e40d685-5f4a-43a9-a419-990052a7dff0",
   "metadata": {},
   "source": [
    "# Change the value by object"
   ]
  },
  {
   "cell_type": "code",
   "execution_count": 1,
   "id": "f25302d3-8817-433d-9c29-31f0143f9f58",
   "metadata": {},
   "outputs": [
    {
     "name": "stdout",
     "output_type": "stream",
     "text": [
      "Age :  26\n"
     ]
    },
    {
     "ename": "AttributeError",
     "evalue": "'myclass' object has no attribute 'age'",
     "output_type": "error",
     "traceback": [
      "\u001b[1;31m---------------------------------------------------------------------------\u001b[0m",
      "\u001b[1;31mAttributeError\u001b[0m                            Traceback (most recent call last)",
      "Cell \u001b[1;32mIn [1], line 18\u001b[0m\n\u001b[0;32m     16\u001b[0m \u001b[38;5;66;03m# Delet the object\u001b[39;00m\n\u001b[0;32m     17\u001b[0m \u001b[38;5;28;01mdel\u001b[39;00m m1\u001b[38;5;241m.\u001b[39mage\n\u001b[1;32m---> 18\u001b[0m \u001b[38;5;28mprint\u001b[39m(\u001b[38;5;124m\"\u001b[39m\u001b[38;5;124mAge : \u001b[39m\u001b[38;5;124m\"\u001b[39m,\u001b[43mm1\u001b[49m\u001b[38;5;241;43m.\u001b[39;49m\u001b[43mage\u001b[49m)\n",
      "\u001b[1;31mAttributeError\u001b[0m: 'myclass' object has no attribute 'age'"
     ]
    }
   ],
   "source": [
    "class myclass:\n",
    "    def __init__(self,name,age):\n",
    "        self.name = name\n",
    "        self.age = age\n",
    "        \n",
    "    def myfunction(self):\n",
    "        print(\"My Name is : \"+self.name)\n",
    "# creating an object\n",
    "m1 = myclass(\"Sunit\",25)\n",
    "m1.age\n",
    "m1.name\n",
    "# Changing the age using object\n",
    "m1.age = 26\n",
    "print(\"Age : \",m1.age)\n",
    "\n",
    "# Delet the object\n",
    "del m1.age\n",
    "print(\"Age : \",m1.age)"
   ]
  },
  {
   "cell_type": "markdown",
   "id": "1f3e8f80-c90e-4d2d-97d2-6fa553cd0455",
   "metadata": {},
   "source": [
    "# Inheritance"
   ]
  },
  {
   "cell_type": "markdown",
   "id": "ecf79e23-8b54-4762-80c0-10a5cd165c0f",
   "metadata": {},
   "source": [
    "# Single Inheritance"
   ]
  },
  {
   "cell_type": "code",
   "execution_count": 12,
   "id": "084b8dd1-1fe3-4e73-b9ad-b6950c8c4766",
   "metadata": {},
   "outputs": [
    {
     "name": "stdout",
     "output_type": "stream",
     "text": [
      "Parent Class Function Called\n",
      "Child Class Function Called\n"
     ]
    }
   ],
   "source": [
    "class parentclass:  # parent class\n",
    "    def myfunction1(self): # parent class property\n",
    "        print(\"Parent Class Function Called\")\n",
    "        \n",
    "class childclass(parentclass): #child class which inherit parent class\n",
    "    def myfunction2(self): #childclass property\n",
    "        print(\"Child Class Function Called\")\n",
    "        \n",
    "# Creating an object of childclass\n",
    "c1 = childclass()\n",
    "c1.myfunction1()\n",
    "c1.myfunction2()"
   ]
  },
  {
   "cell_type": "markdown",
   "id": "c5062a56-fb94-46bb-96a7-fd3c4d340bb0",
   "metadata": {},
   "source": [
    "#  Multilevel Inheritance"
   ]
  },
  {
   "cell_type": "code",
   "execution_count": 11,
   "id": "7f29957e-5421-4f92-ab12-a6bce659aaad",
   "metadata": {},
   "outputs": [
    {
     "name": "stdout",
     "output_type": "stream",
     "text": [
      "class A function called\n",
      "class B function called\n",
      "class C function called\n"
     ]
    }
   ],
   "source": [
    "class A: #parent class\n",
    "    def myfunction1(self):\n",
    "        print(\"class A function called\")\n",
    "        \n",
    "class B(A): #sub-parent class\n",
    "    def myfunction2(self):\n",
    "        print(\"class B function called\")\n",
    "        \n",
    "class C(B): #child class\n",
    "    def myfunction3(self):\n",
    "        print(\"class C function called\")\n",
    "        \n",
    "# creating an object of class c\n",
    "c1 = C()\n",
    "c1.myfunction1()\n",
    "c1.myfunction2()\n",
    "c1.myfunction3()"
   ]
  },
  {
   "cell_type": "markdown",
   "id": "eb82fc7d-ce2d-475a-ac18-87568296f761",
   "metadata": {},
   "source": [
    "#   Multiple Inheritance"
   ]
  },
  {
   "cell_type": "code",
   "execution_count": 14,
   "id": "14e74dac-d9e0-48ee-9e6c-b18421fb1949",
   "metadata": {},
   "outputs": [
    {
     "name": "stdout",
     "output_type": "stream",
     "text": [
      "class A1 function called\n",
      "class B1 function called\n",
      "class c1 function called\n"
     ]
    }
   ],
   "source": [
    "class A1: # 1st parent class\n",
    "    def myfunction1(self):\n",
    "        print(\"class A1 function called\")\n",
    "class B1: # 2nd parent class\n",
    "    def myfunction2(self):\n",
    "        print(\"class B1 function called\")\n",
    "        \n",
    "class C1(A1,B1): # child class\n",
    "    def myfunction3(self):\n",
    "        print(\"class c1 function called\")\n",
    "        \n",
    "# creating an object of class c1\n",
    "\n",
    "ob = C1()\n",
    "ob.myfunction1()\n",
    "ob.myfunction2()\n",
    "ob.myfunction3()"
   ]
  },
  {
   "cell_type": "markdown",
   "id": "8df1d2e7-8dbd-4b57-a2a2-e62955b0ace2",
   "metadata": {},
   "source": [
    "#  Hierarchical Inheritance"
   ]
  },
  {
   "cell_type": "code",
   "execution_count": 19,
   "id": "e4e4f521-c789-414a-8d68-0be6b721bbea",
   "metadata": {},
   "outputs": [
    {
     "name": "stdout",
     "output_type": "stream",
     "text": [
      "class A1 function called\n",
      "class A2 function called\n",
      "class A1 function called\n",
      "class A3 function called\n"
     ]
    }
   ],
   "source": [
    "class A1: # parent class\n",
    "    def myfunction1(self):\n",
    "        print(\"class A1 function called\")\n",
    "        \n",
    "class A2(A1): # child class\n",
    "    def myfunction2(self):\n",
    "        print(\"class A2 function called\")\n",
    "\n",
    "class A3(A1): # child class\n",
    "    def myfunction3(self):\n",
    "        print(\"class A3 function called\")\n",
    "        \n",
    "# creating 2 objects 1 for claa A2 and 1 for class A3\n",
    "\n",
    "a2 = A2()\n",
    "a3 = A3()\n",
    "\n",
    "a2.myfunction1() # function of class A1\n",
    "a2.myfunction2() # function of class A2\n",
    "\n",
    "a3.myfunction1() # function of class A1\n",
    "a3.myfunction3() # function of class A3"
   ]
  },
  {
   "cell_type": "markdown",
   "id": "02cafcdb-f3cf-44b2-a58c-d88c84187ec6",
   "metadata": {},
   "source": [
    "#  Hybrid Inheritance"
   ]
  },
  {
   "cell_type": "code",
   "execution_count": 20,
   "id": "d8fe7693-5315-430e-9c03-57025cdb5525",
   "metadata": {},
   "outputs": [
    {
     "name": "stdout",
     "output_type": "stream",
     "text": [
      "class A1 function called\n",
      "class A2 function called\n",
      "class A3 function called\n",
      "class A4 function called\n"
     ]
    }
   ],
   "source": [
    "class B1: # parent class\n",
    "    def myfunction1(self):\n",
    "        print(\"class A1 function called\")\n",
    "        \n",
    "class B2(B1): # child class\n",
    "    def myfunction2(self):\n",
    "        print(\"class A2 function called\")\n",
    "\n",
    "class B3(B2): # child class\n",
    "    def myfunction3(self):\n",
    "        print(\"class A3 function called\")\n",
    "        \n",
    "class B4(A2,B3): # child class\n",
    "    def myfunction4(self):\n",
    "        print(\"class A4 function called\")\n",
    "        \n",
    "# cretingan an object of class B4\n",
    "\n",
    "b1 = B4() #object of class B4\n",
    "b1.myfunction1()\n",
    "b1.myfunction2()\n",
    "b1.myfunction3()\n",
    "b1.myfunction4()"
   ]
  },
  {
   "cell_type": "markdown",
   "id": "f94da703-97e7-4dd7-b931-a0b5f0019482",
   "metadata": {},
   "source": [
    "# Polymorphism"
   ]
  },
  {
   "cell_type": "markdown",
   "id": "9033366a-0708-4d91-942b-f3b42b90e4b2",
   "metadata": {},
   "source": [
    "# Compile Time Polymorphism   ( Method Overloading )"
   ]
  },
  {
   "cell_type": "code",
   "execution_count": 25,
   "id": "d43962f4-a704-4fc1-ab9f-47ebb8cd7ef5",
   "metadata": {},
   "outputs": [
    {
     "name": "stdout",
     "output_type": "stream",
     "text": [
      "function with 2 argument\n"
     ]
    }
   ],
   "source": [
    "class MO:\n",
    "    def myfunction(self): # no arguments\n",
    "        print(\"function with no arguments\")\n",
    "        \n",
    "    def myfunction(self,a): # 1 arguments\n",
    "        print(\"function with 1 arguments\")\n",
    "        \n",
    "    def myfunction(self,a,b): # 2 arguments\n",
    "        print(\"function with 2 argument\")\n",
    "        \n",
    "# creating an object of class MO\n",
    "m = MO()\n",
    "m.myfunction(10,20)\n",
    "\n",
    "# Note : Method overloadingh is not supperted in python because python is a interprited language"
   ]
  },
  {
   "cell_type": "markdown",
   "id": "27097043-155c-4967-a679-b010c22a60c0",
   "metadata": {},
   "source": [
    "# Runtime Polymorphism           ( Method Overriding )"
   ]
  },
  {
   "cell_type": "code",
   "execution_count": 28,
   "id": "5f873c46-6719-4702-89bb-346edbf6b2f9",
   "metadata": {},
   "outputs": [
    {
     "name": "stdout",
     "output_type": "stream",
     "text": [
      "class MO3 function called\n",
      "class MO2 function called\n",
      "class MO1 function called\n"
     ]
    }
   ],
   "source": [
    "class MO1: # parent class\n",
    "    def myfunction(self,a):\n",
    "        print(\"class MO1 function called\")\n",
    "        \n",
    "class MO2(MO1): # child class\n",
    "    def myfunction(self,a):\n",
    "        print(\"class MO2 function called\")\n",
    "         # super method calling the method of class MO1\n",
    "        super().myfunction(10)\n",
    "        \n",
    "class MO3(MO2): # child class\n",
    "    def myfunction(self,a):\n",
    "        print(\"class MO3 function called\")\n",
    "        # super method calling the method of class MO2\n",
    "        super().myfunction(10)\n",
    "        \n",
    "# Creating an object of class MO3\n",
    "\n",
    "m = MO3() # object of MO3\n",
    "m.myfunction(10)"
   ]
  },
  {
   "cell_type": "markdown",
   "id": "c6cd3994-e1a9-4775-a3cb-90b40aab469e",
   "metadata": {},
   "source": [
    "# Abstraction"
   ]
  },
  {
   "cell_type": "code",
   "execution_count": 31,
   "id": "c4cbd28c-9b6e-4027-b4fa-42bdb9f4046d",
   "metadata": {},
   "outputs": [
    {
     "name": "stdout",
     "output_type": "stream",
     "text": [
      "SBI Interest is 5%\n",
      "HDFC Interest is 2%\n"
     ]
    }
   ],
   "source": [
    "class RBI: # Abstract class\n",
    "    def Interest(self): # Abstract method\n",
    "        pass\n",
    "    \n",
    "class SBI(RBI): # Child class\n",
    "    def Interest(self): # RBI Interest method implements here\n",
    "        print(\"SBI Interest is 5%\")\n",
    "        \n",
    "class HDFC(RBI): # Child class\n",
    "    def Interest(self): # RBI Interest method implements here\n",
    "        print(\"HDFC Interest is 2%\")\n",
    "        \n",
    "# Creatin an object of class SBI\n",
    "s = SBI()\n",
    "\n",
    "# Creatin an object of class HDFC\n",
    "h = HDFC()\n",
    "\n",
    "s.Interest() # SBI Interest method called\n",
    "h.Interest() # HDFC Interest method called"
   ]
  },
  {
   "cell_type": "code",
   "execution_count": 1,
   "id": "d093f9eb-4cf4-40e3-aacf-86feba0a1dd5",
   "metadata": {},
   "outputs": [
    {
     "name": "stdout",
     "output_type": "stream",
     "text": [
      "I can bark\n",
      "I can hiss\n"
     ]
    }
   ],
   "source": [
    "class animal: # Abstract class / Parent class\n",
    "    def move(self): # Abstract method\n",
    "        pass\n",
    "    \n",
    "class dog(animal): # Child class\n",
    "    def move(self): # Class animal implements method here\n",
    "        print(\"I can bark\")\n",
    "        \n",
    "class snake(animal): # Child class\n",
    "    def move(self):\n",
    "        print(\"I can hiss\")\n",
    "        \n",
    "# Creating an object of class dog\n",
    "d = dog()\n",
    "\n",
    "# Creating an object of class snake\n",
    "s = snake()\n",
    "\n",
    "\n",
    "d.move()\n",
    "s.move()"
   ]
  },
  {
   "cell_type": "markdown",
   "id": "19dbdff2-19d4-4e84-a05a-a780159858d9",
   "metadata": {},
   "source": [
    "# Encapsulation"
   ]
  },
  {
   "cell_type": "markdown",
   "id": "8211d5ac-c263-4229-a592-5df5f59d60e7",
   "metadata": {},
   "source": [
    "# Achieving Encapsulation by Private"
   ]
  },
  {
   "cell_type": "code",
   "execution_count": 2,
   "id": "d3ed5101-df30-4809-bef0-e8db847e550d",
   "metadata": {},
   "outputs": [
    {
     "ename": "AttributeError",
     "evalue": "'B' object has no attribute '_A__a'",
     "output_type": "error",
     "traceback": [
      "\u001b[1;31m---------------------------------------------------------------------------\u001b[0m",
      "\u001b[1;31mAttributeError\u001b[0m                            Traceback (most recent call last)",
      "Cell \u001b[1;32mIn [2], line 18\u001b[0m\n\u001b[0;32m     14\u001b[0m         \u001b[38;5;28mprint\u001b[39m(\u001b[38;5;28mself\u001b[39m\u001b[38;5;241m.\u001b[39m__a)\n\u001b[0;32m     16\u001b[0m \u001b[38;5;66;03m# Creating an object of class B\u001b[39;00m\n\u001b[1;32m---> 18\u001b[0m obj \u001b[38;5;241m=\u001b[39m \u001b[43mB\u001b[49m\u001b[43m(\u001b[49m\u001b[38;5;241;43m20\u001b[39;49m\u001b[43m)\u001b[49m\n\u001b[0;32m     19\u001b[0m obj\u001b[38;5;241m.\u001b[39mshow()\n",
      "Cell \u001b[1;32mIn [2], line 11\u001b[0m, in \u001b[0;36mB.__init__\u001b[1;34m(self, b)\u001b[0m\n\u001b[0;32m     10\u001b[0m \u001b[38;5;28;01mdef\u001b[39;00m \u001b[38;5;21m__init__\u001b[39m(\u001b[38;5;28mself\u001b[39m,b):\n\u001b[1;32m---> 11\u001b[0m     \u001b[38;5;28;43msuper\u001b[39;49m\u001b[43m(\u001b[49m\u001b[43m)\u001b[49m\u001b[38;5;241;43m.\u001b[39;49m\u001b[38;5;21;43m__init__\u001b[39;49m\u001b[43m(\u001b[49m\u001b[43mb\u001b[49m\u001b[43m)\u001b[49m\n",
      "Cell \u001b[1;32mIn [2], line 3\u001b[0m, in \u001b[0;36mA.__init__\u001b[1;34m(self, a)\u001b[0m\n\u001b[0;32m      2\u001b[0m \u001b[38;5;28;01mdef\u001b[39;00m \u001b[38;5;21m__init__\u001b[39m(\u001b[38;5;28mself\u001b[39m,a):\n\u001b[1;32m----> 3\u001b[0m     \u001b[38;5;28;43mself\u001b[39;49m\u001b[38;5;241;43m.\u001b[39;49m\u001b[43m__a\u001b[49m\n",
      "\u001b[1;31mAttributeError\u001b[0m: 'B' object has no attribute '_A__a'"
     ]
    }
   ],
   "source": [
    "class A: #parent class\n",
    "    def __init__(self,a):\n",
    "        self.__a=a # the variable is a private variable (double underscore use)\n",
    "        \n",
    "    def show(self):\n",
    "        #Printing a private using function\n",
    "        print(\"Private Variable : \",self.__a)\n",
    "        \n",
    "class B(A): # child class\n",
    "    def __init__(self,b):\n",
    "        super().__init__(b)\n",
    "        \n",
    "    def show(self):\n",
    "        print(self.__a)\n",
    "        \n",
    "# Creating an object of class B\n",
    "\n",
    "obj = B(20)\n",
    "obj.show()"
   ]
  },
  {
   "cell_type": "markdown",
   "id": "c80ab274-97f3-49f7-a00a-d240d36c1367",
   "metadata": {},
   "source": [
    "# Achieving Encapsulation by Protected"
   ]
  },
  {
   "cell_type": "code",
   "execution_count": 3,
   "id": "8fbf2cae-ff8a-483f-9efa-e618d864f0d0",
   "metadata": {},
   "outputs": [
    {
     "name": "stdout",
     "output_type": "stream",
     "text": [
      "variable value : 30\n"
     ]
    }
   ],
   "source": [
    "class A: #parent class\n",
    "    def __init__(self,a):\n",
    "        self._a=a # this variable is a protected variable (single underscore use)\n",
    "        \n",
    "    def show(self):\n",
    "        print(\"Protected variable : \",self._a)\n",
    "        \n",
    "class B(A): #child class\n",
    "    def __init__(self,b):\n",
    "        super().__init__(b)\n",
    "        \n",
    "    def showB(self):\n",
    "        print(\"variable value :\",self._a)\n",
    "        \n",
    "# Creating an object of class B\n",
    "\n",
    "obj = B(30)\n",
    "obj.showB()"
   ]
  },
  {
   "cell_type": "markdown",
   "id": "c1fd930f-7c68-42c8-b6ee-f2b27a89a5e9",
   "metadata": {},
   "source": [
    "# Regular Expression"
   ]
  },
  {
   "cell_type": "markdown",
   "id": "95ecc8b9-b443-412b-9147-bc0455ed219d",
   "metadata": {},
   "source": [
    "# Match Function"
   ]
  },
  {
   "cell_type": "code",
   "execution_count": 8,
   "id": "cc16020a-7efd-491e-a78d-4092eb5d4d4a",
   "metadata": {},
   "outputs": [
    {
     "name": "stdout",
     "output_type": "stream",
     "text": [
      "<re.Match object; span=(0, 4), match='abcd'>\n"
     ]
    }
   ],
   "source": [
    "# Import re module first\n",
    "import re\n",
    "\n",
    "pattern = r\"^abcd\"\n",
    "mystring = \"abcdef\"\n",
    "\n",
    "x = re.match(pattern,mystring)\n",
    "print(x)"
   ]
  },
  {
   "cell_type": "markdown",
   "id": "d64084c7-0df6-456e-8129-9dc29dfabe1c",
   "metadata": {},
   "source": [
    "# Search Function"
   ]
  },
  {
   "cell_type": "code",
   "execution_count": 2,
   "id": "810c3e01-a9e1-40e0-9a7d-6c434609237d",
   "metadata": {},
   "outputs": [
    {
     "name": "stdout",
     "output_type": "stream",
     "text": [
      "The first white space : 2\n"
     ]
    }
   ],
   "source": [
    "# Import re module first\n",
    "import re\n",
    "\n",
    "txt = \"We are learning python\"\n",
    "x = re.search(\"\\s\",txt) # This expression is written for searching whitespace\n",
    "print(\"The first white space :\",x.start())"
   ]
  },
  {
   "cell_type": "code",
   "execution_count": 5,
   "id": "dc45c926-481f-4747-af82-569ba359b070",
   "metadata": {},
   "outputs": [
    {
     "name": "stdout",
     "output_type": "stream",
     "text": [
      "None\n"
     ]
    }
   ],
   "source": [
    "import re\n",
    "txt = \"The rain in gujarat\"\n",
    "x = re.search(\"ahamadabad\",txt)\n",
    "print(x)"
   ]
  },
  {
   "cell_type": "markdown",
   "id": "adbb69e3-b20f-4ecf-a022-196001bd0521",
   "metadata": {},
   "source": [
    "# Replace Function"
   ]
  },
  {
   "cell_type": "code",
   "execution_count": 8,
   "id": "ff529894-77b3-4162-a208-3d8860f5a94a",
   "metadata": {},
   "outputs": [
    {
     "name": "stdout",
     "output_type": "stream",
     "text": [
      "Before Replace : Learnvern provide free online training\n",
      "After replace :  Learnvern python free online training\n"
     ]
    }
   ],
   "source": [
    "import re\n",
    "\n",
    "str1 = \"Learnvern provide free online training\"\n",
    "print(\"Before Replace :\",str1)\n",
    "\n",
    "# After replace the provide with python\n",
    "result = re.sub(r\"provide\",\"python\",str1)\n",
    "print(\"After replace : \",result)"
   ]
  },
  {
   "cell_type": "code",
   "execution_count": 11,
   "id": "3521a7dd-ee75-4ba0-8208-5cea7f3ee77e",
   "metadata": {},
   "outputs": [
    {
     "name": "stdout",
     "output_type": "stream",
     "text": [
      "Before Replace : Learnvern Provide Free Online Training\n",
      "After Replace : L00000000 P000000 F000 O00000 T0000000\n"
     ]
    }
   ],
   "source": [
    "import re\n",
    "\n",
    "str1 = \"Learnvern Provide Free Online Training\"\n",
    "print(\"Before Replace :\",str1)\n",
    "\n",
    "result = re.sub(r\"[a-z]\",\"0\",str1)\n",
    "print(\"After Replace :\",result)"
   ]
  },
  {
   "cell_type": "markdown",
   "id": "448547cc-d4c3-4ddc-af82-ce6f2747f40c",
   "metadata": {},
   "source": [
    "# Import pymysql API"
   ]
  },
  {
   "cell_type": "code",
   "execution_count": 1,
   "id": "88d54714-397c-4966-9125-f864aab79414",
   "metadata": {},
   "outputs": [],
   "source": [
    "# import pymysql"
   ]
  },
  {
   "cell_type": "markdown",
   "id": "5c5b22be-1ee1-41cd-9cb9-f43819efcaa7",
   "metadata": {},
   "source": [
    "# Creating Connection With Database"
   ]
  },
  {
   "cell_type": "code",
   "execution_count": null,
   "id": "c6d6b578-8632-4b26-85df-02d14e996214",
   "metadata": {},
   "outputs": [],
   "source": [
    "# def CreateConn():\n",
    "#     return pymysql.connect(host=\"local host\",database=\"learnvern\",user=\"root\",password=\"\",port=3306)"
   ]
  },
  {
   "cell_type": "markdown",
   "id": "51eaeb2c-4225-4ab3-a6b9-9e15db5ce1e0",
   "metadata": {},
   "source": [
    "# Create and Insert"
   ]
  },
  {
   "cell_type": "code",
   "execution_count": 36,
   "id": "197fb24f-415b-4561-b61b-4bb90541eacf",
   "metadata": {},
   "outputs": [
    {
     "ename": "OperationalError",
     "evalue": "(1050, \"Table 'student' already exists\")",
     "output_type": "error",
     "traceback": [
      "\u001b[1;31m---------------------------------------------------------------------------\u001b[0m",
      "\u001b[1;31mOperationalError\u001b[0m                          Traceback (most recent call last)",
      "Cell \u001b[1;32mIn [36], line 21\u001b[0m\n\u001b[0;32m     18\u001b[0m     \u001b[38;5;28mprint\u001b[39m(\u001b[38;5;124m\"\u001b[39m\u001b[38;5;124mTable Created\u001b[39m\u001b[38;5;124m\"\u001b[39m)\n\u001b[0;32m     19\u001b[0m     conn\u001b[38;5;241m.\u001b[39mclose()\n\u001b[1;32m---> 21\u001b[0m \u001b[43mCreateTable\u001b[49m\u001b[43m(\u001b[49m\u001b[43m)\u001b[49m\n",
      "Cell \u001b[1;32mIn [36], line 16\u001b[0m, in \u001b[0;36mCreateTable\u001b[1;34m()\u001b[0m\n\u001b[0;32m     14\u001b[0m cursor \u001b[38;5;241m=\u001b[39m conn\u001b[38;5;241m.\u001b[39mcursor() \u001b[38;5;66;03m# helping to your query\u001b[39;00m\n\u001b[0;32m     15\u001b[0m query \u001b[38;5;241m=\u001b[39m \u001b[38;5;124m\"\u001b[39m\u001b[38;5;124mcreate table student(sid int primary key auto_increment,name VARCHAR(50),email VARCHAR(50),city VARCHAR(50))\u001b[39m\u001b[38;5;124m\"\u001b[39m\n\u001b[1;32m---> 16\u001b[0m \u001b[43mcursor\u001b[49m\u001b[38;5;241;43m.\u001b[39;49m\u001b[43mexecute\u001b[49m\u001b[43m(\u001b[49m\u001b[43mquery\u001b[49m\u001b[43m)\u001b[49m\n\u001b[0;32m     17\u001b[0m conn\u001b[38;5;241m.\u001b[39mcommit()\n\u001b[0;32m     18\u001b[0m \u001b[38;5;28mprint\u001b[39m(\u001b[38;5;124m\"\u001b[39m\u001b[38;5;124mTable Created\u001b[39m\u001b[38;5;124m\"\u001b[39m)\n",
      "File \u001b[1;32m~\\AppData\\Local\\Programs\\Python\\Python310\\lib\\site-packages\\pymysql\\cursors.py:148\u001b[0m, in \u001b[0;36mCursor.execute\u001b[1;34m(self, query, args)\u001b[0m\n\u001b[0;32m    144\u001b[0m     \u001b[38;5;28;01mpass\u001b[39;00m\n\u001b[0;32m    146\u001b[0m query \u001b[38;5;241m=\u001b[39m \u001b[38;5;28mself\u001b[39m\u001b[38;5;241m.\u001b[39mmogrify(query, args)\n\u001b[1;32m--> 148\u001b[0m result \u001b[38;5;241m=\u001b[39m \u001b[38;5;28;43mself\u001b[39;49m\u001b[38;5;241;43m.\u001b[39;49m\u001b[43m_query\u001b[49m\u001b[43m(\u001b[49m\u001b[43mquery\u001b[49m\u001b[43m)\u001b[49m\n\u001b[0;32m    149\u001b[0m \u001b[38;5;28mself\u001b[39m\u001b[38;5;241m.\u001b[39m_executed \u001b[38;5;241m=\u001b[39m query\n\u001b[0;32m    150\u001b[0m \u001b[38;5;28;01mreturn\u001b[39;00m result\n",
      "File \u001b[1;32m~\\AppData\\Local\\Programs\\Python\\Python310\\lib\\site-packages\\pymysql\\cursors.py:310\u001b[0m, in \u001b[0;36mCursor._query\u001b[1;34m(self, q)\u001b[0m\n\u001b[0;32m    308\u001b[0m \u001b[38;5;28mself\u001b[39m\u001b[38;5;241m.\u001b[39m_last_executed \u001b[38;5;241m=\u001b[39m q\n\u001b[0;32m    309\u001b[0m \u001b[38;5;28mself\u001b[39m\u001b[38;5;241m.\u001b[39m_clear_result()\n\u001b[1;32m--> 310\u001b[0m \u001b[43mconn\u001b[49m\u001b[38;5;241;43m.\u001b[39;49m\u001b[43mquery\u001b[49m\u001b[43m(\u001b[49m\u001b[43mq\u001b[49m\u001b[43m)\u001b[49m\n\u001b[0;32m    311\u001b[0m \u001b[38;5;28mself\u001b[39m\u001b[38;5;241m.\u001b[39m_do_get_result()\n\u001b[0;32m    312\u001b[0m \u001b[38;5;28;01mreturn\u001b[39;00m \u001b[38;5;28mself\u001b[39m\u001b[38;5;241m.\u001b[39mrowcount\n",
      "File \u001b[1;32m~\\AppData\\Local\\Programs\\Python\\Python310\\lib\\site-packages\\pymysql\\connections.py:548\u001b[0m, in \u001b[0;36mConnection.query\u001b[1;34m(self, sql, unbuffered)\u001b[0m\n\u001b[0;32m    546\u001b[0m     sql \u001b[38;5;241m=\u001b[39m sql\u001b[38;5;241m.\u001b[39mencode(\u001b[38;5;28mself\u001b[39m\u001b[38;5;241m.\u001b[39mencoding, \u001b[38;5;124m\"\u001b[39m\u001b[38;5;124msurrogateescape\u001b[39m\u001b[38;5;124m\"\u001b[39m)\n\u001b[0;32m    547\u001b[0m \u001b[38;5;28mself\u001b[39m\u001b[38;5;241m.\u001b[39m_execute_command(COMMAND\u001b[38;5;241m.\u001b[39mCOM_QUERY, sql)\n\u001b[1;32m--> 548\u001b[0m \u001b[38;5;28mself\u001b[39m\u001b[38;5;241m.\u001b[39m_affected_rows \u001b[38;5;241m=\u001b[39m \u001b[38;5;28;43mself\u001b[39;49m\u001b[38;5;241;43m.\u001b[39;49m\u001b[43m_read_query_result\u001b[49m\u001b[43m(\u001b[49m\u001b[43munbuffered\u001b[49m\u001b[38;5;241;43m=\u001b[39;49m\u001b[43munbuffered\u001b[49m\u001b[43m)\u001b[49m\n\u001b[0;32m    549\u001b[0m \u001b[38;5;28;01mreturn\u001b[39;00m \u001b[38;5;28mself\u001b[39m\u001b[38;5;241m.\u001b[39m_affected_rows\n",
      "File \u001b[1;32m~\\AppData\\Local\\Programs\\Python\\Python310\\lib\\site-packages\\pymysql\\connections.py:775\u001b[0m, in \u001b[0;36mConnection._read_query_result\u001b[1;34m(self, unbuffered)\u001b[0m\n\u001b[0;32m    773\u001b[0m \u001b[38;5;28;01melse\u001b[39;00m:\n\u001b[0;32m    774\u001b[0m     result \u001b[38;5;241m=\u001b[39m MySQLResult(\u001b[38;5;28mself\u001b[39m)\n\u001b[1;32m--> 775\u001b[0m     \u001b[43mresult\u001b[49m\u001b[38;5;241;43m.\u001b[39;49m\u001b[43mread\u001b[49m\u001b[43m(\u001b[49m\u001b[43m)\u001b[49m\n\u001b[0;32m    776\u001b[0m \u001b[38;5;28mself\u001b[39m\u001b[38;5;241m.\u001b[39m_result \u001b[38;5;241m=\u001b[39m result\n\u001b[0;32m    777\u001b[0m \u001b[38;5;28;01mif\u001b[39;00m result\u001b[38;5;241m.\u001b[39mserver_status \u001b[38;5;129;01mis\u001b[39;00m \u001b[38;5;129;01mnot\u001b[39;00m \u001b[38;5;28;01mNone\u001b[39;00m:\n",
      "File \u001b[1;32m~\\AppData\\Local\\Programs\\Python\\Python310\\lib\\site-packages\\pymysql\\connections.py:1156\u001b[0m, in \u001b[0;36mMySQLResult.read\u001b[1;34m(self)\u001b[0m\n\u001b[0;32m   1154\u001b[0m \u001b[38;5;28;01mdef\u001b[39;00m \u001b[38;5;21mread\u001b[39m(\u001b[38;5;28mself\u001b[39m):\n\u001b[0;32m   1155\u001b[0m     \u001b[38;5;28;01mtry\u001b[39;00m:\n\u001b[1;32m-> 1156\u001b[0m         first_packet \u001b[38;5;241m=\u001b[39m \u001b[38;5;28;43mself\u001b[39;49m\u001b[38;5;241;43m.\u001b[39;49m\u001b[43mconnection\u001b[49m\u001b[38;5;241;43m.\u001b[39;49m\u001b[43m_read_packet\u001b[49m\u001b[43m(\u001b[49m\u001b[43m)\u001b[49m\n\u001b[0;32m   1158\u001b[0m         \u001b[38;5;28;01mif\u001b[39;00m first_packet\u001b[38;5;241m.\u001b[39mis_ok_packet():\n\u001b[0;32m   1159\u001b[0m             \u001b[38;5;28mself\u001b[39m\u001b[38;5;241m.\u001b[39m_read_ok_packet(first_packet)\n",
      "File \u001b[1;32m~\\AppData\\Local\\Programs\\Python\\Python310\\lib\\site-packages\\pymysql\\connections.py:725\u001b[0m, in \u001b[0;36mConnection._read_packet\u001b[1;34m(self, packet_type)\u001b[0m\n\u001b[0;32m    723\u001b[0m     \u001b[38;5;28;01mif\u001b[39;00m \u001b[38;5;28mself\u001b[39m\u001b[38;5;241m.\u001b[39m_result \u001b[38;5;129;01mis\u001b[39;00m \u001b[38;5;129;01mnot\u001b[39;00m \u001b[38;5;28;01mNone\u001b[39;00m \u001b[38;5;129;01mand\u001b[39;00m \u001b[38;5;28mself\u001b[39m\u001b[38;5;241m.\u001b[39m_result\u001b[38;5;241m.\u001b[39munbuffered_active \u001b[38;5;129;01mis\u001b[39;00m \u001b[38;5;28;01mTrue\u001b[39;00m:\n\u001b[0;32m    724\u001b[0m         \u001b[38;5;28mself\u001b[39m\u001b[38;5;241m.\u001b[39m_result\u001b[38;5;241m.\u001b[39munbuffered_active \u001b[38;5;241m=\u001b[39m \u001b[38;5;28;01mFalse\u001b[39;00m\n\u001b[1;32m--> 725\u001b[0m     \u001b[43mpacket\u001b[49m\u001b[38;5;241;43m.\u001b[39;49m\u001b[43mraise_for_error\u001b[49m\u001b[43m(\u001b[49m\u001b[43m)\u001b[49m\n\u001b[0;32m    726\u001b[0m \u001b[38;5;28;01mreturn\u001b[39;00m packet\n",
      "File \u001b[1;32m~\\AppData\\Local\\Programs\\Python\\Python310\\lib\\site-packages\\pymysql\\protocol.py:221\u001b[0m, in \u001b[0;36mMysqlPacket.raise_for_error\u001b[1;34m(self)\u001b[0m\n\u001b[0;32m    219\u001b[0m \u001b[38;5;28;01mif\u001b[39;00m DEBUG:\n\u001b[0;32m    220\u001b[0m     \u001b[38;5;28mprint\u001b[39m(\u001b[38;5;124m\"\u001b[39m\u001b[38;5;124merrno =\u001b[39m\u001b[38;5;124m\"\u001b[39m, errno)\n\u001b[1;32m--> 221\u001b[0m \u001b[43merr\u001b[49m\u001b[38;5;241;43m.\u001b[39;49m\u001b[43mraise_mysql_exception\u001b[49m\u001b[43m(\u001b[49m\u001b[38;5;28;43mself\u001b[39;49m\u001b[38;5;241;43m.\u001b[39;49m\u001b[43m_data\u001b[49m\u001b[43m)\u001b[49m\n",
      "File \u001b[1;32m~\\AppData\\Local\\Programs\\Python\\Python310\\lib\\site-packages\\pymysql\\err.py:143\u001b[0m, in \u001b[0;36mraise_mysql_exception\u001b[1;34m(data)\u001b[0m\n\u001b[0;32m    141\u001b[0m \u001b[38;5;28;01mif\u001b[39;00m errorclass \u001b[38;5;129;01mis\u001b[39;00m \u001b[38;5;28;01mNone\u001b[39;00m:\n\u001b[0;32m    142\u001b[0m     errorclass \u001b[38;5;241m=\u001b[39m InternalError \u001b[38;5;28;01mif\u001b[39;00m errno \u001b[38;5;241m<\u001b[39m \u001b[38;5;241m1000\u001b[39m \u001b[38;5;28;01melse\u001b[39;00m OperationalError\n\u001b[1;32m--> 143\u001b[0m \u001b[38;5;28;01mraise\u001b[39;00m errorclass(errno, errval)\n",
      "\u001b[1;31mOperationalError\u001b[0m: (1050, \"Table 'student' already exists\")"
     ]
    }
   ],
   "source": [
    "# import database API\n",
    "import pymysql\n",
    "\n",
    "# Data base connection function\n",
    "def CreateConn():\n",
    "    return pymysql.connect(host=\"localhost\",database=\"learnvern\",\n",
    "                           user=\"root\",password=\"\",port=3306)\n",
    "\n",
    "\n",
    "# Table create function\n",
    "\n",
    "def CreateTable():\n",
    "    conn = CreateConn()\n",
    "    cursor = conn.cursor() # helping to your query\n",
    "    query = \"create table student(sid int primary key auto_increment,name VARCHAR(50),email VARCHAR(50),city VARCHAR(50))\"\n",
    "    cursor.execute(query)\n",
    "    conn.commit()\n",
    "    print(\"Table Created\")\n",
    "    conn.close()\n",
    "    \n",
    "CreateTable() # calling create table function"
   ]
  },
  {
   "cell_type": "markdown",
   "id": "51986723-0e3f-44b2-9a63-ab1dc1aca6cf",
   "metadata": {},
   "source": [
    "# Insert record in Database"
   ]
  },
  {
   "cell_type": "code",
   "execution_count": null,
   "id": "fc610ab7-1d97-44dc-b781-61b22916ec2d",
   "metadata": {},
   "outputs": [],
   "source": [
    "def Insertdata(name,email,city):\n",
    "    conn = CreateConn() # Creating connection\n",
    "    cursor = conn.cursor()\n",
    "    args = (name,email,city)\n",
    "    query = \"Insert into student(name,email,city)values(%s,%s,%s)\"\n",
    "    cursor.execute(query,args)\n",
    "    conn.commit() # saving the data commit function\n",
    "    print(\"Data inserted\")\n",
    "    conn.close()\n",
    "    \n",
    "    \n",
    "n = input(\"Enter your Name : \")\n",
    "e = input(\"Enter your Email : \")\n",
    "c = input(\"Enter your City : \")\n",
    "\n",
    "Insertdata(n,e,c)"
   ]
  },
  {
   "cell_type": "markdown",
   "id": "caace996-d908-474a-9011-31437cb31178",
   "metadata": {},
   "source": [
    "# Fenchone and Fetch all Data in python"
   ]
  },
  {
   "cell_type": "code",
   "execution_count": null,
   "id": "fb216a8d-5d86-4a6e-b1d9-0a472845c8d6",
   "metadata": {},
   "outputs": [],
   "source": [
    "# import database API\n",
    "import pymysql\n",
    "\n",
    "# Data base connection function\n",
    "def CreateConn():\n",
    "    return pymysql.connect(host=\"localhost\",database=\"learnvern\",\n",
    "                           user=\"root\",password=\"\",port=3306)"
   ]
  },
  {
   "cell_type": "code",
   "execution_count": 29,
   "id": "b8f72d06-b720-4194-962b-dfcd1e6d8ac7",
   "metadata": {},
   "outputs": [
    {
     "name": "stdout",
     "output_type": "stream",
     "text": [
      "(1, 'Sunit', 's@gmail.com', 'Ahmedabad')\n",
      "(2, 's', 'df', 'fdsa@')\n"
     ]
    }
   ],
   "source": [
    "def ShowAllData():\n",
    "    conn = CreateConn()\n",
    "    cursor = conn.cursor()\n",
    "    query = \"select * from student\"\n",
    "    cursor.execute(query)\n",
    "    result = cursor.fetchall()\n",
    "    for i in result:\n",
    "        print(i)\n",
    "        \n",
    "ShowAllData()"
   ]
  },
  {
   "cell_type": "markdown",
   "id": "9c9df0ef-f2be-4fd2-bbdc-4a28b49e18aa",
   "metadata": {},
   "source": [
    "# Fetch data by id from database"
   ]
  },
  {
   "cell_type": "code",
   "execution_count": 35,
   "id": "ed71f156-bf40-403d-aa20-e929a900947b",
   "metadata": {},
   "outputs": [
    {
     "name": "stdout",
     "output_type": "stream",
     "text": [
      "(1, 'Sunit', 's@gmail.com', 'Ahmedabad')\n",
      "(2, 's', 'df', 'fdsa@')\n"
     ]
    },
    {
     "name": "stdout",
     "output_type": "stream",
     "text": [
      "Enter your Id :  1\n"
     ]
    },
    {
     "ename": "NameError",
     "evalue": "name 'createconn' is not defined",
     "output_type": "error",
     "traceback": [
      "\u001b[1;31m---------------------------------------------------------------------------\u001b[0m",
      "\u001b[1;31mNameError\u001b[0m                                 Traceback (most recent call last)",
      "Cell \u001b[1;32mIn [35], line 15\u001b[0m\n\u001b[0;32m     12\u001b[0m ShowAllData()\n\u001b[0;32m     14\u001b[0m sid \u001b[38;5;241m=\u001b[39m \u001b[38;5;28mint\u001b[39m(\u001b[38;5;28minput\u001b[39m(\u001b[38;5;124m\"\u001b[39m\u001b[38;5;124mEnter your Id : \u001b[39m\u001b[38;5;124m\"\u001b[39m))\n\u001b[1;32m---> 15\u001b[0m \u001b[43mshowalldatabyid\u001b[49m\u001b[43m(\u001b[49m\u001b[43msid\u001b[49m\u001b[43m)\u001b[49m\n",
      "Cell \u001b[1;32mIn [35], line 2\u001b[0m, in \u001b[0;36mshowalldatabyid\u001b[1;34m(sid)\u001b[0m\n\u001b[0;32m      1\u001b[0m \u001b[38;5;28;01mdef\u001b[39;00m \u001b[38;5;21mshowalldatabyid\u001b[39m(sid):\n\u001b[1;32m----> 2\u001b[0m     conn \u001b[38;5;241m=\u001b[39m \u001b[43mcreateconn\u001b[49m()\n\u001b[0;32m      3\u001b[0m     cursor \u001b[38;5;241m=\u001b[39m conn\u001b[38;5;241m.\u001b[39mcursor()\n\u001b[0;32m      4\u001b[0m     args \u001b[38;5;241m=\u001b[39m (sid)\n",
      "\u001b[1;31mNameError\u001b[0m: name 'createconn' is not defined"
     ]
    }
   ],
   "source": [
    "def showalldatabyid(sid):\n",
    "    conn = createconn()\n",
    "    cursor = conn.cursor()\n",
    "    args = (sid)\n",
    "    query = \"select * from student where sid=%s\"\n",
    "    cursor.execute(query,args)\n",
    "    result = cursor.fetchall()\n",
    "    for i in result:\n",
    "        print(i)\n",
    "        \n",
    "        \n",
    "ShowAllData()\n",
    "\n",
    "sid = int(input(\"Enter your Id : \"))\n",
    "showAllDataById(sid)"
   ]
  },
  {
   "cell_type": "markdown",
   "id": "11f9c6a5-736b-4daf-9a10-21f419713272",
   "metadata": {},
   "source": [
    "# Python MySQL Update and Delete Data"
   ]
  },
  {
   "cell_type": "code",
   "execution_count": null,
   "id": "8122a773-e59a-42e0-8699-fde48df61b67",
   "metadata": {},
   "outputs": [],
   "source": [
    "# Import Database API\n",
    "import pymysql\n",
    "\n",
    "# Database connection function\n",
    "def CreateConn():\n",
    "    return pymysql.connect(host=\"localhost\",database=\"learnvern\",\n",
    "                          user=\"root\",password=\"\",port=3306)"
   ]
  },
  {
   "cell_type": "markdown",
   "id": "3217e38c-a2e1-44bb-9b0f-d30585be9957",
   "metadata": {},
   "source": [
    "# Fetch All Data from Database"
   ]
  },
  {
   "cell_type": "code",
   "execution_count": null,
   "id": "342b4217-6044-4e21-8fa3-5c9954d53e83",
   "metadata": {},
   "outputs": [],
   "source": [
    "def ShowAllData():\n",
    "    conn = CreateConn()\n",
    "    cursor = conn.cursor()\n",
    "    query = \"select * from student\"\n",
    "    cursor.execute(query)\n",
    "    result = cursor.fetchall()\n",
    "    for i in result:\n",
    "        print(i)\n",
    "        \n",
    "ShowAllData()"
   ]
  },
  {
   "cell_type": "markdown",
   "id": "c103ff68-c506-4bba-84ae-d41aa0780c53",
   "metadata": {},
   "source": [
    "# Update data into database"
   ]
  },
  {
   "cell_type": "code",
   "execution_count": null,
   "id": "1dd713d6-fec7-45d2-816e-ae055fce0e38",
   "metadata": {},
   "outputs": [],
   "source": [
    "def UpdateData(name,email,city,sid):\n",
    "    conn = CreateConn()\n",
    "    cursor = conn.cursor()\n",
    "    args = (name,email,city,sid)\n",
    "    query = \"update student set name=%s,email=%s,city=%s where sid=%s\"\n",
    "    cursor.execute(query,args)\n",
    "    conn.commit()\n",
    "    print(\"Data Updated\")\n",
    "    conn.close()\n",
    "    \n",
    "ShowAllData() # Show All Data from database\n",
    "\n",
    "sid = int(input(\"Enter your id : \"))\n",
    "n = input(\"Enter your Name : \")\n",
    "e = input(\"Enter your Email : \")\n",
    "c = input(\"Enter your City : \")\n",
    "\n",
    "UpdateData(n,e,c,sid) # For updating \n",
    "\n",
    "\n",
    "ShowAllData() # For Showing updated data"
   ]
  },
  {
   "cell_type": "markdown",
   "id": "eecc064d-d611-4510-9b8f-c2a9556d5702",
   "metadata": {},
   "source": [
    "# Delete Data from Database"
   ]
  },
  {
   "cell_type": "code",
   "execution_count": null,
   "id": "a21279b7-28e6-417c-92f5-feb995340589",
   "metadata": {},
   "outputs": [],
   "source": [
    "def DeleteData(sid):\n",
    "    conn = CreateConn()\n",
    "    cursor = conn.cursor()\n",
    "    args = (sid)\n",
    "    query = \"delete from student where sid=%s\"\n",
    "    cursor.execute(query,args)\n",
    "    conn.commit()\n",
    "    print(\"Data Deleted\")\n",
    "    conn.close()\n",
    "    \n",
    "ShowAllData()\n",
    "\n",
    "sid = int(input(\"Enter your Id : \"))\n",
    "\n",
    "# Calling delete method\n",
    "DeleteData(sid)\n",
    "\n",
    "ShowAllData()\n"
   ]
  },
  {
   "cell_type": "markdown",
   "id": "19b9528f-6c5f-4925-85bd-3e9a84aabddc",
   "metadata": {},
   "source": [
    "# Tkinter"
   ]
  },
  {
   "cell_type": "code",
   "execution_count": 6,
   "id": "bbd73111-002d-498a-8d7c-bafd7ab0bdab",
   "metadata": {},
   "outputs": [],
   "source": [
    "# Import Tkinter\n",
    "from tkinter import *\n",
    "\n",
    "#Creating a main window\n",
    "r = Tk()\n",
    "\n",
    "# Mainloop method call\n",
    "mainloop()"
   ]
  },
  {
   "cell_type": "markdown",
   "id": "002a341f-fbd0-443b-92db-ef33e9795691",
   "metadata": {},
   "source": [
    "# Creating Customize Window"
   ]
  },
  {
   "cell_type": "code",
   "execution_count": 14,
   "id": "d6b537f5-b3de-4db7-9862-e36e4ae4f516",
   "metadata": {},
   "outputs": [],
   "source": [
    "# Import Tkinter\n",
    "from tkinter import *\n",
    "\n",
    "# Creating main window\n",
    "r = Tk()\n",
    "r.geometry(\"900x500\")\n",
    "r.title(\"My Title\")\n",
    "r.configure(bg=\"orange\")\n",
    "\n",
    "mainloop()"
   ]
  },
  {
   "cell_type": "markdown",
   "id": "615455a8-430f-4d12-b589-32fc2c940548",
   "metadata": {},
   "source": [
    "# Adding widgets into window"
   ]
  },
  {
   "cell_type": "code",
   "execution_count": 38,
   "id": "d0d67f9c-0e77-43f8-8288-d2b4e99de5e1",
   "metadata": {},
   "outputs": [],
   "source": [
    "# Import Tkinter\n",
    "from tkinter import *\n",
    "\n",
    "# Creating main window\n",
    "r = Tk()\n",
    "r.geometry(\"900x500\")\n",
    "r.title(\"My Title\")\n",
    "r.configure(bg=\"orange\")\n",
    "\n",
    "# Adding lables in main window\n",
    "rn = Label(r,text=\"Roll No\")\n",
    "rn.place(x=20,y=20)\n",
    "\n",
    "fn = Label(r,text=\"Firstname\")\n",
    "fn.place(x=20,y=60)\n",
    "\n",
    "ln = Label(r,text=\"Lastname\")\n",
    "ln.place(x=20,y=100)\n",
    "\n",
    "em = Label(r,text=\"Email\")\n",
    "em.place(x=20,y=140)\n",
    "\n",
    "#Adding entry box into main window\n",
    "ern = Entry()\n",
    "ern.place(x=100,y=20)\n",
    "\n",
    "efn = Entry()\n",
    "efn.place(x=100,y=60)\n",
    "\n",
    "eln = Entry()\n",
    "eln.place(x=100,y=100)\n",
    "\n",
    "eem = Entry()\n",
    "eem.place(x=100,y=140)\n",
    "\n",
    "# Adding buttons into main window\n",
    "button1 = Button(r,text=\"Button1\",bg=\"White\")\n",
    "button1.place(x=20,y=200)\n",
    "\n",
    "\n",
    "\n",
    "mainloop()"
   ]
  },
  {
   "cell_type": "code",
   "execution_count": 10,
   "id": "b0c4b43d-acdb-418d-981d-1c231270049f",
   "metadata": {},
   "outputs": [
    {
     "name": "stdout",
     "output_type": "stream",
     "text": [
      "Enter here3\n",
      "Enter here4\n",
      "34\n",
      "<class 'int'>\n"
     ]
    }
   ],
   "source": [
    "a = input(\"Enter here\")\n",
    "b = input(\"Enter here\")\n",
    "c = int(a+b)\n",
    "# d = a+b\n",
    "print(a+b)\n",
    "print(type(c))"
   ]
  }
 ],
 "metadata": {
  "kernelspec": {
   "display_name": "Python 3",
   "language": "python",
   "name": "python3"
  },
  "language_info": {
   "codemirror_mode": {
    "name": "ipython",
    "version": 3
   },
   "file_extension": ".py",
   "mimetype": "text/x-python",
   "name": "python",
   "nbconvert_exporter": "python",
   "pygments_lexer": "ipython3",
   "version": "3.10.7 (tags/v3.10.7:6cc6b13, Sep  5 2022, 14:08:36) [MSC v.1933 64 bit (AMD64)]"
  },
  "vscode": {
   "interpreter": {
    "hash": "27f6fea6f47ae512550f0b8facdbd035a93e1dd89633f7bf2dd00a2502c71d0d"
   }
  }
 },
 "nbformat": 4,
 "nbformat_minor": 5
}
