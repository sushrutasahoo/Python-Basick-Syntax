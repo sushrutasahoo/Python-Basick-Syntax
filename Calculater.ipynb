{
 "cells": [
  {
   "cell_type": "code",
   "execution_count": 1,
   "metadata": {},
   "outputs": [
    {
     "name": "stdout",
     "output_type": "stream",
     "text": [
      "Select operation.\n",
      "1. Add\n",
      "2. Subtract\n",
      "3. Multiply\n",
      "4. Divide\n",
      "5.0 * 6.0 = 30.0\n"
     ]
    }
   ],
   "source": [
    "# Define the function for addition\n",
    "def add(x, y):\n",
    "    return x + y\n",
    "\n",
    "# Define the function for subtraction\n",
    "def subtract(x, y):\n",
    "    return x - y\n",
    "\n",
    "# Define the function for multiplication\n",
    "def multiply(x, y):\n",
    "    return x * y\n",
    "\n",
    "# Define the function for division\n",
    "def divide(x, y):\n",
    "    return x / y\n",
    "\n",
    "# Get input from the user\n",
    "print(\"Select operation.\")\n",
    "print(\"1. Add\")\n",
    "print(\"2. Subtract\")\n",
    "print(\"3. Multiply\")\n",
    "print(\"4. Divide\")\n",
    "\n",
    "choice = input(\"Enter choice(1/2/3/4): \")\n",
    "\n",
    "num1 = float(input(\"Enter first number: \"))\n",
    "num2 = float(input(\"Enter second number: \"))\n",
    "\n",
    "# Perform the selected operation\n",
    "if choice == '1':\n",
    "    print(num1,\"+\",num2,\"=\", add(num1,num2))\n",
    "\n",
    "elif choice == '2':\n",
    "    print(num1,\"-\",num2,\"=\", subtract(num1,num2))\n",
    "\n",
    "elif choice == '3':\n",
    "    print(num1,\"*\",num2,\"=\", multiply(num1,num2))\n",
    "\n",
    "elif choice == '4':\n",
    "    print(num1,\"/\",num2,\"=\", divide(num1,num2))\n",
    "\n",
    "else:\n",
    "    print(\"Invalid input\")"
   ]
  }
 ],
 "metadata": {
  "kernelspec": {
   "display_name": "Python 3",
   "language": "python",
   "name": "python3"
  },
  "language_info": {
   "codemirror_mode": {
    "name": "ipython",
    "version": 3
   },
   "file_extension": ".py",
   "mimetype": "text/x-python",
   "name": "python",
   "nbconvert_exporter": "python",
   "pygments_lexer": "ipython3",
   "version": "3.10.7"
  },
  "orig_nbformat": 4,
  "vscode": {
   "interpreter": {
    "hash": "27f6fea6f47ae512550f0b8facdbd035a93e1dd89633f7bf2dd00a2502c71d0d"
   }
  }
 },
 "nbformat": 4,
 "nbformat_minor": 2
}
